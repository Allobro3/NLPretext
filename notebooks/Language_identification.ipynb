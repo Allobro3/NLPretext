{
 "cells": [
  {
   "cell_type": "markdown",
   "metadata": {},
   "source": [
    "# Data Cleaning:\n",
    "Pour télécharger les datas pour ce notebook, vous pouvez utilisez le [script associé](/nautilus_nlp/data/external/get_language_dataset.sh)"
   ]
  },
  {
   "cell_type": "code",
   "execution_count": 27,
   "metadata": {},
   "outputs": [],
   "source": [
    "with open('../data/external/wili/x_test.txt') as fp:\n",
    "    test=fp.readlines()\n",
    "    test=[doc.strip('\\n') for doc in test]"
   ]
  },
  {
   "cell_type": "markdown",
   "metadata": {},
   "source": [
    "Le Dataset Wili est un dataset d'identification de langue basé sur Wikipedia.\n"
   ]
  },
  {
   "cell_type": "markdown",
   "metadata": {},
   "source": [
    "# Language identification"
   ]
  },
  {
   "cell_type": "markdown",
   "metadata": {},
   "source": [
    "Two types of detector can be implemented: THe Compact language detector (CLD2) and the Fasttext language identification one"
   ]
  },
  {
   "cell_type": "code",
   "execution_count": 28,
   "metadata": {},
   "outputs": [],
   "source": [
    "from nautilus_nlp.models.Language_detector import LangDetector\n",
    "detector= LangDetector(typemodel='fasttext')\n",
    "detector2= LangDetector(typemodel='cld2')"
   ]
  },
  {
   "cell_type": "markdown",
   "metadata": {},
   "source": [
    "The language identification part is simply done by calling the detect language method of the detector"
   ]
  },
  {
   "cell_type": "code",
   "execution_count": 29,
   "metadata": {},
   "outputs": [
    {
     "name": "stdout",
     "output_type": "stream",
     "text": [
      "Ne l fin de l seclo XIX l Japon era inda çconhecido i sótico pa l mundo oucidental. Cula antroduçon de la stética japonesa, particularmente na Sposiçon Ounibersal de 1900, an Paris, l Oucidente adquiriu un apetite ansaciable pul Japon i Heiarn se tornou mundialmente coincido pula perfundidade, ouriginalidade i sinceridade de ls sous cuntos. An sous radadeiros anhos, alguns críticos, cumo George Orwell, acusórun Heiarn de trasferir sou nacionalismo i fazer l Japon parecer mais sótico, mas, cumo l'home qu'oufereciu al Oucidente alguns de sous purmeiros lampeijos de l Japon pré-andustrial i de l Período Meiji, sou trabalho inda ye balioso até hoije.\n",
      "('pt', 0.41855213046073914)\n",
      "('pt', 0.54)\n",
      "\n",
      "\n",
      "Schiedam is gelegen tussen Rotterdam en Vlaardingen, oorspronkelijk aan de Schie en later ook aan de Nieuwe Maas. Per 30 april 2017 had de gemeente 77.833 inwoners (bron: CBS). De stad is vooral bekend om haar jenever, de historische binnenstad met grachten, en de hoogste windmolens ter wereld.\n",
      "('nl', 0.9266586899757385)\n",
      "('nl', 0.99)\n",
      "\n",
      "\n",
      "ГIурусаз батальонал, гьоркьор гIарадабиги лъун, ункъбокIон (каре) гьабун чIезарун руго. ТIаде гIарададул сачмаги гуллаги байдал, АхIмадханил бо тIурун буго. ГIумаханас цойгидал боязе тIаде кIанцIизе буюрухъ кьун буго. Гьезулги жо ккун гьечIо. Цинги живго ГIумахан кIанцIун вуго тушманасде тIаде («угъузилал рачун, дайтилал рачун, маххулъан бер баккун хунз цадахъ рачун»). Нахъе къалел ругел магIарулазда гьес гьарулеб букIун буго: «Нужеца яхI бахъе, гIолохъаби! Нилъеда данде гьал чIоларо», – ян.\n",
      "('ru', 0.38813528418540955)\n",
      "('uz', 0.99)\n",
      "\n",
      "\n",
      "ರಾಜ್ಯಶಾಸ್ತ್ರದ ಪಿತಾಮಹೆ ಅರಿಸ್ಟಾಟಲ್. ರಾಜ್ಯಶಾಸ್ತ್ರದ ವೈಜ್ನಾನಿಕವಾದ್ ಅದ್ಯಾಯನ ಮಲ್ದಿನಾರ್ ಅರಿಸ್ಟಾಟಲ್. ಮೇರ್ 158 ರಾಷ್ಟ್ರದ ಸಂವಿಧಾನಲೆನ್ ಅರ್ಥ ಮಲ್ತೊನ್ದ್ the politics ಕೃತಿ ರಚನೆ ಮಲ್ದೆರ್. ಮೇರ್ ಕ್ರಿ.ಪೂ 387 ಗ್ರೀಕ್ ಸ್ಟಾಗಿರಡ್ ಜನಿಸಿಯೆರ್. ಮೆರೆನ ಅಮ್ಮೆರ್ ಮೆಸೆದೊನಿಯ ಅರಸೆರ್ನ ರಾಜವೈದ್ಯರ್ ಅದುದ್ ಇತ್ತೆರ್. ಎಲ್ಳಡೆ ಮೆರ್ ತತ್ವಶಾಸ್ತ್ರ,ಅರ್ಥಶಾಸ್ತ್ರ,ಸಂಗೀತ,ವಿಜ್ನಾನ,ಪೌರನೀತಿ,ಗಣಿತ ನೆಟ್ಟ್ ಪರಂಗತೆರ್ ಅದುದ್ ಇತ್ತೆರ್. ವಿದ್ಯಾಭ್ಯಾಸ ಮುಗಿ ಬೊಕ್ಕ ಪ್ಲೇಟೋ ಗ್ರೀಕ್ ತತ್ವಜ್ನಾನಿನೊಟ್ ಸೆರೊಂಡೆರ್. ಪ್ಲೇಟೋನ ಅಕಾಡೆಮಿಡ್ ಮಸ್ತ್ ವರ್ಷ ಬೇಲೆ ಮಲ್ತೆರ್. ಅಕಾಡೆಮಿಡ್ ನಿರ್ದೆಶೆಕೆರ್ನ ಹುದ್ದೆ ತಿಕ್ಕಂದೆ ಬೆಜರ್ ಅದುದ್ ಲೈಸಿಯಮ್ ಪನ್ಪಿನ ವಿಶ್ವವಿದ್ಯಾನಿಲಯ ಸ್ಥಾಪನೆ ಮಲ್ತೆರ್. ಬಿಕ್ಕ ಒಂತೆ ಸಮಯ ಅಲೆಗ್ಸಾಂಡರ್ ಚಕ್ರವರ್ತಿಗ್ ಗುರುವಾದ್ ಬೇಲೆ ಮಲ್ತೆರ್. ಮೇರ್ ಬರೆತಿನ ಪುಸ್ತಕ the politics,history of animals,metaphysics ಇತ್ಯಾದಿ.\n",
      "('kn', 0.9979031085968018)\n",
      "('kn', 0.96)\n",
      "\n",
      "\n",
      "Halukum adalah kelenjar tiroid nang menonjol di gulu lalakian. Awan bibinian penonjolan nangini ada ai jua, tagal kada pati rancak. Lamun penampilan halukum dirasa pina talalu ganal, hal ini kawa diperbaiki awan operasi pelastik.\n",
      "('id', 0.4194313585758209)\n",
      "('ms', 0.99)\n",
      "\n",
      "\n"
     ]
    }
   ],
   "source": [
    "for i in range(0,5):\n",
    "    print(test[i])\n",
    "    print(detector.detect_language(test[i]))\n",
    "    print(detector2.detect_language(test[i]))\n",
    "    print('\\n')"
   ]
  },
  {
   "cell_type": "markdown",
   "metadata": {},
   "source": [
    "We can see that the results are pretty similar, the value of the confidence is changing though"
   ]
  },
  {
   "cell_type": "markdown",
   "metadata": {},
   "source": [
    "# Performance"
   ]
  },
  {
   "cell_type": "markdown",
   "metadata": {},
   "source": [
    "## Inference time:\n"
   ]
  },
  {
   "cell_type": "code",
   "execution_count": 30,
   "metadata": {},
   "outputs": [
    {
     "name": "stdout",
     "output_type": "stream",
     "text": [
      "87.5 ms ± 3.43 ms per loop (mean ± std. dev. of 7 runs, 10 loops each)\n"
     ]
    }
   ],
   "source": [
    "%%timeit\n",
    "for i in range(0,1000):\n",
    "    detector.detect_language(test[i])"
   ]
  },
  {
   "cell_type": "code",
   "execution_count": 31,
   "metadata": {},
   "outputs": [
    {
     "name": "stdout",
     "output_type": "stream",
     "text": [
      "32 ms ± 1.19 ms per loop (mean ± std. dev. of 7 runs, 10 loops each)\n"
     ]
    }
   ],
   "source": [
    "%%timeit\n",
    "for i in range(0,1000):\n",
    "    detector2.detect_language(test[i])"
   ]
  },
  {
   "cell_type": "markdown",
   "metadata": {},
   "source": [
    "## Accuracy\n",
    "To do"
   ]
  },
  {
   "cell_type": "code",
   "execution_count": null,
   "metadata": {},
   "outputs": [],
   "source": []
  }
 ],
 "metadata": {
  "kernelspec": {
   "display_name": "Python 3",
   "language": "python",
   "name": "python3"
  },
  "language_info": {
   "codemirror_mode": {
    "name": "ipython",
    "version": 3
   },
   "file_extension": ".py",
   "mimetype": "text/x-python",
   "name": "python",
   "nbconvert_exporter": "python",
   "pygments_lexer": "ipython3",
   "version": "3.7.2"
  }
 },
 "nbformat": 4,
 "nbformat_minor": 2
}
