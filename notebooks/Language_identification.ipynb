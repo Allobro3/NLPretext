{
 "cells": [
  {
   "cell_type": "code",
   "execution_count": 49,
   "metadata": {},
   "outputs": [
    {
     "ename": "ModuleNotFoundError",
     "evalue": "No module named 'pandas'",
     "output_type": "error",
     "traceback": [
      "\u001b[0;31m---------------------------------------------------------------------------\u001b[0m",
      "\u001b[0;31mModuleNotFoundError\u001b[0m                       Traceback (most recent call last)",
      "\u001b[0;32m<ipython-input-49-5bdfc092f0f9>\u001b[0m in \u001b[0;36m<module>\u001b[0;34m\u001b[0m\n\u001b[1;32m      1\u001b[0m \u001b[0;32mimport\u001b[0m \u001b[0mcsv\u001b[0m\u001b[0;34m\u001b[0m\u001b[0;34m\u001b[0m\u001b[0m\n\u001b[1;32m      2\u001b[0m \u001b[0;32mimport\u001b[0m \u001b[0mre\u001b[0m\u001b[0;34m\u001b[0m\u001b[0;34m\u001b[0m\u001b[0m\n\u001b[0;32m----> 3\u001b[0;31m \u001b[0;32mimport\u001b[0m \u001b[0mpandas\u001b[0m \u001b[0;32mas\u001b[0m \u001b[0mpd\u001b[0m\u001b[0;34m\u001b[0m\u001b[0;34m\u001b[0m\u001b[0m\n\u001b[0m",
      "\u001b[0;31mModuleNotFoundError\u001b[0m: No module named 'pandas'"
     ]
    }
   ],
   "source": [
    "import csv  \n",
    "import re\n",
    "import pandas as pd"
   ]
  },
  {
   "cell_type": "markdown",
   "metadata": {},
   "source": [
    "# Data Cleaning:\n",
    "Pour télécharger les datas pour ce notebook, vous pouvez utilisez le [script associé](/nautilus_nlp/data/external/get_language_dataset.sh)"
   ]
  },
  {
   "cell_type": "code",
   "execution_count": 8,
   "metadata": {},
   "outputs": [],
   "source": [
    "with open('../data/external/wili/x_test.txt',encoding='utf-8') as fp:\n",
    "    test=fp.readlines()\n",
    "    test=[doc.strip('\\n') for doc in test]"
   ]
  },
  {
   "cell_type": "markdown",
   "metadata": {},
   "source": [
    "Le Dataset Wili est un dataset d'identification de langue basé sur Wikipedia. Des exemples du tests set suivent: "
   ]
  },
  {
   "cell_type": "code",
   "execution_count": 34,
   "metadata": {},
   "outputs": [
    {
     "data": {
      "text/plain": [
       "\"Ne l fin de l seclo XIX l Japon era inda çconhecido i sótico pa l mundo oucidental. Cula antroduçon de la stética japonesa, particularmente na Sposiçon Ounibersal de 1900, an Paris, l Oucidente adquiriu un apetite ansaciable pul Japon i Heiarn se tornou mundialmente coincido pula perfundidade, ouriginalidade i sinceridade de ls sous cuntos. An sous radadeiros anhos, alguns críticos, cumo George Orwell, acusórun Heiarn de trasferir sou nacionalismo i fazer l Japon parecer mais sótico, mas, cumo l'home qu'oufereciu al Oucidente alguns de sous purmeiros lampeijos de l Japon pré-andustrial i de l Período Meiji, sou trabalho inda ye balioso até hoije.\""
      ]
     },
     "execution_count": 34,
     "metadata": {},
     "output_type": "execute_result"
    }
   ],
   "source": [
    "\n",
    "test[0]"
   ]
  },
  {
   "cell_type": "code",
   "execution_count": 28,
   "metadata": {},
   "outputs": [
    {
     "data": {
      "text/plain": [
       "'Schiedam is gelegen tussen Rotterdam en Vlaardingen, oorspronkelijk aan de Schie en later ook aan de Nieuwe Maas. Per 30 april 2017 had de gemeente 77.833 inwoners (bron: CBS). De stad is vooral bekend om haar jenever, de historische binnenstad met grachten, en de hoogste windmolens ter wereld.'"
      ]
     },
     "execution_count": 28,
     "metadata": {},
     "output_type": "execute_result"
    }
   ],
   "source": [
    "test[1]"
   ]
  },
  {
   "cell_type": "code",
   "execution_count": 29,
   "metadata": {},
   "outputs": [
    {
     "data": {
      "text/plain": [
       "'ГIурусаз батальонал, гьоркьор гIарадабиги лъун, ункъбокIон (каре) гьабун чIезарун руго. ТIаде гIарададул сачмаги гуллаги байдал, АхIмадханил бо тIурун буго. ГIумаханас цойгидал боязе тIаде кIанцIизе буюрухъ кьун буго. Гьезулги жо ккун гьечIо. Цинги живго ГIумахан кIанцIун вуго тушманасде тIаде («угъузилал рачун, дайтилал рачун, маххулъан бер баккун хунз цадахъ рачун»). Нахъе къалел ругел магIарулазда гьес гьарулеб букIун буго: «Нужеца яхI бахъе, гIолохъаби! Нилъеда данде гьал чIоларо», – ян.'"
      ]
     },
     "execution_count": 29,
     "metadata": {},
     "output_type": "execute_result"
    }
   ],
   "source": [
    "test[2]"
   ]
  },
  {
   "cell_type": "code",
   "execution_count": 30,
   "metadata": {},
   "outputs": [
    {
     "data": {
      "text/plain": [
       "'ರಾಜ್ಯಶಾಸ್ತ್ರದ ಪಿತಾಮಹೆ ಅರಿಸ್ಟಾಟಲ್. ರಾಜ್ಯಶಾಸ್ತ್ರದ ವೈಜ್ನಾನಿಕವಾದ್ ಅದ್ಯಾಯನ ಮಲ್ದಿನಾರ್ ಅರಿಸ್ಟಾಟಲ್. ಮೇರ್ 158 ರಾಷ್ಟ್ರದ ಸಂವಿಧಾನಲೆನ್ ಅರ್ಥ ಮಲ್ತೊನ್ದ್ the politics ಕೃತಿ ರಚನೆ ಮಲ್ದೆರ್. ಮೇರ್ ಕ್ರಿ.ಪೂ 387 ಗ್ರೀಕ್ ಸ್ಟಾಗಿರಡ್ ಜನಿಸಿಯೆರ್. ಮೆರೆನ ಅಮ್ಮೆರ್ ಮೆಸೆದೊನಿಯ ಅರಸೆರ್ನ ರಾಜವೈದ್ಯರ್ ಅದುದ್ ಇತ್ತೆರ್. ಎಲ್ಳಡೆ ಮೆರ್ ತತ್ವಶಾಸ್ತ್ರ,ಅರ್ಥಶಾಸ್ತ್ರ,ಸಂಗೀತ,ವಿಜ್ನಾನ,ಪೌರನೀತಿ,ಗಣಿತ ನೆಟ್ಟ್ ಪರಂಗತೆರ್ ಅದುದ್ ಇತ್ತೆರ್. ವಿದ್ಯಾಭ್ಯಾಸ ಮುಗಿ ಬೊಕ್ಕ ಪ್ಲೇಟೋ ಗ್ರೀಕ್ ತತ್ವಜ್ನಾನಿನೊಟ್ ಸೆರೊಂಡೆರ್. ಪ್ಲೇಟೋನ ಅಕಾಡೆಮಿಡ್ ಮಸ್ತ್ ವರ್ಷ ಬೇಲೆ ಮಲ್ತೆರ್. ಅಕಾಡೆಮಿಡ್ ನಿರ್ದೆಶೆಕೆರ್ನ ಹುದ್ದೆ ತಿಕ್ಕಂದೆ ಬೆಜರ್ ಅದುದ್ ಲೈಸಿಯಮ್ ಪನ್ಪಿನ ವಿಶ್ವವಿದ್ಯಾನಿಲಯ ಸ್ಥಾಪನೆ ಮಲ್ತೆರ್. ಬಿಕ್ಕ ಒಂತೆ ಸಮಯ ಅಲೆಗ್ಸಾಂಡರ್ ಚಕ್ರವರ್ತಿಗ್ ಗುರುವಾದ್ ಬೇಲೆ ಮಲ್ತೆರ್. ಮೇರ್ ಬರೆತಿನ ಪುಸ್ತಕ the politics,history of animals,metaphysics ಇತ್ಯಾದಿ.'"
      ]
     },
     "execution_count": 30,
     "metadata": {},
     "output_type": "execute_result"
    }
   ],
   "source": [
    "test[3]"
   ]
  },
  {
   "cell_type": "code",
   "execution_count": 13,
   "metadata": {},
   "outputs": [
    {
     "data": {
      "text/plain": [
       "'Тухайн үед дан ганц 20кг-ын Орос баллон хэрэглэдэг байсан уламжлалыг халж хэрэглэгчдийг сонголт ихтэй болгож 5,10,14,20 кг хэмжээтэй, баллонуудыг захиалан үйлдвэрлүүлж, өөрийн брэнд болгон хэрэглээнд нэвтрүүлж, хийн түлшээр ажилладаг тулга, төрөл бүрийн халаагуурууд, тоног төхөөрөмжийн ашиглалт, хийн түлшний ашиг тусыг хэвлэл мэдээллийн хэрэгслэлээр тасралтгүй сурталчилсаны үр дүнд 2002 оны 5 сар гэхэд хийн түлшний хэрэглээ сард 30 тн, 9 сард 50 тн хүрч өссөн юм.'"
      ]
     },
     "execution_count": 13,
     "metadata": {},
     "output_type": "execute_result"
    }
   ],
   "source": [
    "test[5]"
   ]
  },
  {
   "cell_type": "code",
   "execution_count": 45,
   "metadata": {},
   "outputs": [],
   "source": [
    "with open('../data/external/wili/y_test.txt',encoding='utf-8') as fp:\n",
    "    y=fp.readlines()"
   ]
  },
  {
   "cell_type": "code",
   "execution_count": 47,
   "metadata": {},
   "outputs": [],
   "source": [
    "with open('../data/external/wili/labels.csv',encoding='utf-8') as fp:\n",
    "    labels=fp.readlines()"
   ]
  },
  {
   "cell_type": "code",
   "execution_count": 48,
   "metadata": {},
   "outputs": [
    {
     "data": {
      "text/plain": [
       "['Label;English;Wiki Code;ISO 369-3;German;Language family;Writing system;Remarks;Synonyms\\n',\n",
       " 'ace;Achinese;ace;ace;Achinesisch;Austronesian;;;\\n',\n",
       " 'afr;Afrikaans;af;afr;Afrikaans;Indo-European;;;\\n',\n",
       " 'als;Alemannic German;als;gsw;Alemannisch;Indo-European;;(ursprünglich nur\\xa0Elsässisch);\\n',\n",
       " 'amh;Amharic;am;amh;Amharisch;Afro-Asiatic;;;\\n',\n",
       " 'ang;Old English ;ang;ang;Altenglisch;Indo-European;;(ca. 450-1100);Angelsächsisch\\n',\n",
       " 'ara;Arabic;ar;ara;Arabisch;Afro-Asiatic;;;\\n',\n",
       " 'arg;Aragonese;an;arg;Aragonesisch;Indo-European;;;\\n',\n",
       " 'arz;Egyptian Arabic;arz;arz;Ägyptisch-Arabisch;Afro-Asiatic;;;\\n',\n",
       " 'asm;Assamese;as;asm;Assamesisch;Indo-European;;;\\n',\n",
       " 'ast;Asturian;ast;ast;Asturisch;Indo-European;;;\\n',\n",
       " 'ava;Avar;av;ava;Awarisch;Northeast Caucasian;;;\\n',\n",
       " 'aym;Aymara;ay;aym;Aymara;Aymaran;;;\\n',\n",
       " 'azb;South Azerbaijani;azb;azb;Südaserbaidschanisch;Turkic;Arabic;;\\n',\n",
       " 'aze;Azerbaijani;az;aze;Aserbaidschanisch;Turkic;Latin;;\\n',\n",
       " 'bak;Bashkir;ba;bak;Baschkirisch;Turkic;;;\\n',\n",
       " 'bar;Bavarian;bar;bar;Bairisch;Indo-European;;;\\n',\n",
       " 'bcl;Central Bikol;bcl;bcl;Bikolano;Austronesian;;;\\n',\n",
       " 'be-tarask;Belarusian (Taraschkewiza);be-tarask;;Weißrussisch (Taraschkewiza);Indo-European;;;\\n',\n",
       " 'bel;Belarusian;be;bel;Weißrussisch;Indo-European;;(normativ);\\n',\n",
       " 'ben;Bengali;bn;ben;Bengalisch;Indo-European;;;\\n',\n",
       " 'bho;Bhojpuri;bh;bho;Bhojpuri;Indo-European;;;\\n',\n",
       " 'bjn;Banjar;bjn;bjn;Banjaresisch;Austronesian;;;\\n',\n",
       " 'bod;Tibetan;bo;bod;Tibetisch;Sino-Tibetan;;;\\n',\n",
       " 'bos;Bosnian;bs;bos;Bosnisch;Indo-European;;;\\n',\n",
       " 'bpy;Bishnupriya;bpy;bpy;Bishnupriya Manipuri;Indo-European;;;\\n',\n",
       " 'bre;Breton;br;bre;Bretonisch;Indo-European;;;\\n',\n",
       " 'bul;Bulgarian;bg;bul;Bulgarisch;Indo-European;;;\\n',\n",
       " 'bxr;Buryat;bxr;bxr;Burjatisch;Mongolic;Cyrillic:::Mongolian script:::Vagindra script:::Latin;;Buriat\\n',\n",
       " 'cat;Catalan;ca;cat;Katalanisch;Indo-European;Latin;;\\n',\n",
       " 'cbk;Chavacano;cbk-zam;cbk;Chabacano;Indo-European;;;\\n',\n",
       " 'cdo;Min Dong;cdo;cdo;Min Dong;Sino-Tibetan;;;\\n',\n",
       " 'ceb;Cebuano;ceb;ceb;Cebuano;Austronesian;Latin;;\\n',\n",
       " 'ces;Czech;cs;ces;Tschechisch;Indo-European;Latin;;\\n',\n",
       " 'che;Chechen;ce;che;Tschetschenisch;Northeast Caucasian;;;\\n',\n",
       " 'chr;Cherokee;chr;chr;Cherokee;Iroquoian;;;\\n',\n",
       " 'chv;Chuvash;cv;chv;Tschuwaschisch;Turkic;;;\\n',\n",
       " 'ckb;Central Kurdish;ckb;ckb;Sorani;Indo-European;;;\\n',\n",
       " 'cor;Cornish;kw;cor;Kornisch;Indo-European;;;\\n',\n",
       " 'cos;Corsican;co;cos;Korsisch;Indo-European;;;\\n',\n",
       " 'crh;Crimean Tatar;crh;crh;Krimtatarisch;Turkic;;;\\n',\n",
       " 'csb;Kashubian;csb;csb;Kaschubisch;Indo-European;;;\\n',\n",
       " 'cym;Welsh;cy;cym;Walisisch;Indo-European;;;\\n',\n",
       " 'dan;Danish;da;dan;Dänisch;Indo-European;;;\\n',\n",
       " 'deu;German;de;deu;Deutsch;Indo-European;Latin;;\\n',\n",
       " 'diq;Dimli;diq;diq;Süd-Zazaisch;Indo-European;;;\\n',\n",
       " 'div;Dhivehi;dv;div;Dhivehi;Indo-European;;;\\n',\n",
       " 'dsb;Lower Sorbian;dsb;dsb;Niedersorbisch;Indo-European;;;\\n',\n",
       " 'dty;Doteli;dty;dty;Doteli;Indo-European;;;\\n',\n",
       " 'egl;Emilian;eml;egl;Emilianisch;Indo-European;;;\\n',\n",
       " 'ell;Modern Greek;el;ell;Griechisch;Indo-European;;(1453-);\\n',\n",
       " 'eng;English;en;eng;Englisch;Indo-European;Latin;;\\n',\n",
       " 'epo;Esperanto;eo;epo;Esperanto;Constructed;;;\\n',\n",
       " 'est;Estonian;et;est;Estnisch;Uralic;;;\\n',\n",
       " 'eus;Basque;eu;eus;Baskisch;Language isolate;;;\\n',\n",
       " 'ext;Extremaduran;ext;ext;Extremadurisch;Indo-European;;;\\n',\n",
       " 'fao;Faroese;fo;fao;Färöisch;Indo-European;;;\\n',\n",
       " 'fas;Persian;fa;fas;Persisch;Indo-European;;;\\n',\n",
       " 'fin;Finnish;fi;fin;Finnisch;Uralic;Latin;;\\n',\n",
       " 'fra;French;fr;fra;Französisch;Indo-European;Latin;;\\n',\n",
       " 'frp;Arpitan;frp;frp;Frankoprovenzalisch;Indo-European;;;\\n',\n",
       " 'fry;Western Frisian;fy;fry;Westfriesisch;Indo-European;;;\\n',\n",
       " 'fur;Friulian;fur;fur;Furlanisch;Indo-European;;;\\n',\n",
       " 'gag;Gagauz;gag;gag;Gagausisch;Turkic;;;\\n',\n",
       " 'gla;Scottish Gaelic;gd;gla;Schottisch-Gälisch;Indo-European;;;\\n',\n",
       " 'gle;Irish;ga;gle;Irisch;Indo-European;;;\\n',\n",
       " 'glg;Galician;gl;glg;Galicisch;Indo-European;;;\\n',\n",
       " 'glk;Gilaki;glk;glk;Gilaki;Indo-European;;;\\n',\n",
       " 'glv;Manx;gv;glv;Manx;Indo-European;;;\\n',\n",
       " 'grn;Guarani;gn;grn;Guaraní;Tupi-Guarani;;;\\n',\n",
       " 'guj;Gujarati;gu;guj;Gujarati;Indo-European;;;\\n',\n",
       " 'hak;Hakka Chinese;hak;hak;Hakka;Sino-Tibetan;;;\\n',\n",
       " 'hat;Haitian Creole;ht;hat;Haitianisch;Indo-European;;;\\n',\n",
       " 'hau;Hausa;ha;hau;Hausa;Afro-Asiatic;Latin;;Chadic\\n',\n",
       " 'hbs;Serbo-Croatian;sh;hbs;Serbokroatisch;Indo-European;;;\\n',\n",
       " 'heb;Hebrew;he;heb;Hebräisch;Afro-Asiatic;;;\\n',\n",
       " 'hif;Fiji Hindi;hif;hif;Fidschi-Hindi;Indo-European;;;\\n',\n",
       " 'hin;Hindi;hi;hin;Hindi;Indo-European;;;\\n',\n",
       " 'hrv;Croatian;hr;hrv;Kroatisch;Indo-European;;;\\n',\n",
       " 'hsb;Upper Sorbian;hsb;hsb;Obersorbisch;Indo-European;;;\\n',\n",
       " 'hun;Hungarian;hu;hun;Ungarisch;Uralic;;;\\n',\n",
       " 'hye;Armenian;hy;hye;Armenisch;Indo-European;;;\\n',\n",
       " 'ibo;Igbo;ig;ibo;Igbo;Niger-Congo;Latin;;\\n',\n",
       " 'ido;Ido;io;ido;Ido;Constructed;;;\\n',\n",
       " 'ile;Interlingue;ie;ile;Interlingue;Constructed;;;\\n',\n",
       " 'ilo;Iloko;ilo;ilo;Ilokano;Austronesian;;;\\n',\n",
       " 'ina;Interlingua;ia;ina;Interlingua;Constructed;;;\\n',\n",
       " 'ind;Indonesian;id;ind;Indonesisch;Austronesian;Latin;;\\n',\n",
       " 'isl;Icelandic;is;isl;Isländisch;Indo-European;;;\\n',\n",
       " 'ita;Italian;it;ita;Italienisch;Indo-European;Latin;;\\n',\n",
       " 'jam;Jamaican Patois;jam;jam;Jamaikanisch-kreolisch;Indo-European;;;\\n',\n",
       " 'jav;Javanese;jv;jav;Javanisch;Austronesian;;;\\n',\n",
       " 'jbo;Lojban;jbo;jbo;Lojban;Constructed;Latin;;\\n',\n",
       " 'jpn;Japanese;ja;jpn;Japanisch;Japonic;;;\\n',\n",
       " 'kaa;Karakalpak;kaa;kaa;Karakalpakisch;Turkic;;;\\n',\n",
       " 'kab;Kabyle;kab;kab;Kabylisch;Afro-Asiatic;;;\\n',\n",
       " 'kan;Kannada;kn;kan;Kannada;Dravidian;;;\\n',\n",
       " 'kat;Georgian;ka;kat;Georgisch;South Caucasian;;;\\n',\n",
       " 'kaz;Kazakh;kk;kaz;Kasachisch;Turkic;;;\\n',\n",
       " 'kbd;Kabardian;kbd;kbd;Kabardinisch;Northeast Caucasian;Cyrillic:::Latin:::Arabic;;Kabardino-Cherkess:::East Circassian\\n',\n",
       " 'khm;Central Khmer;km;khm;Khmer;Austronesian;;;\\n',\n",
       " 'kin;Kinyarwanda;rw;kin;Kinyarwanda;Niger-Congo;Latin;;Fumbira\\n',\n",
       " 'kir;Kirghiz;ky;kir;Kirgisisch;Turkic;;;\\n',\n",
       " 'koi;Komi-Permyak;koi;koi;Komi-Permjakisch;Uralic;;;\\n',\n",
       " 'kok;Konkani;gom;kok;Konkani;Indo-European;;;\\n',\n",
       " 'kom;Komi;kv;kom;Komi;Uralic;;;\\n',\n",
       " 'kor;Korean;ko;kor;Koreanisch;Koreanic;;;\\n',\n",
       " 'krc;Karachay-Balkar;krc;krc;Karatschai-balkarisch;Turkic;;;\\n',\n",
       " 'ksh;Ripuarisch;ksh;ksh;Kölsch;Indo-European;;;\\n',\n",
       " 'kur;Kurdish;ku;kur;Kurdisch;Indo-European;Latin;;\\n',\n",
       " 'lad;Ladino;lad;lad;Judenspanisch;Indo-European;;;\\n',\n",
       " 'lao;Lao;lo;lao;Laotisch;Tai-Kadai;;;\\n',\n",
       " 'lat;Latin;la;lat;Latein;Indo-European;;;\\n',\n",
       " 'lav;Latvian;lv;lav;Lettisch;Indo-European;;;\\n',\n",
       " 'lez;Lezghian;lez;lez;Lesgisch;Northeast Caucasian;;;\\n',\n",
       " 'lij;Ligurian;lij;lij;Ligurisch;Indo-European;;(Romanisch);\\n',\n",
       " 'lim;Limburgan;li;lim;Limburgisch;Indo-European;;;\\n',\n",
       " 'lin;Lingala;ln;lin;Lingála;Niger-Congo;;;\\n',\n",
       " 'lit;Lithuanian;lt;lit;Litauisch;Indo-European;;;\\n',\n",
       " 'lmo;Lombard;lmo;lmo;Lombardisch;Indo-European;;;\\n',\n",
       " 'lrc;Northern Luri;lrc;lrc;nördliches Luri;Indo-European;;;\\n',\n",
       " 'ltg;Latgalian;ltg;ltg;Lettgallisch;Indo-European;;;\\n',\n",
       " 'ltz;Luxembourgish;lb;ltz;Luxemburgisch;Indo-European;;;\\n',\n",
       " 'lug;Luganda;lg;lug;Luganda;Niger-Congo;Latin;;Ganda\\n',\n",
       " 'lzh;Literary Chinese;zh-classical;lzh;klassisches Chinesisch;Sino-Tibetan;;;\\n',\n",
       " 'mai;Maithili;mai;mai;Maithili;Indo-European;;;\\n',\n",
       " 'mal;Malayalam;ml;mal;Malayalam;Dravidian;;;\\n',\n",
       " 'map-bms;Banyumasan;map-bms;map-bms;Banyumasan;Austronesian;;Javanese;\\n',\n",
       " 'mar;Marathi;mr;mar;Marathi;Indo-European;;;\\n',\n",
       " 'mdf;Moksha;mdf;mdf;Mokschanisch;Uralic;Cyrillic;;\\n',\n",
       " 'mhr;Eastern Mari;mhr;mhr;Ostmari;Uralic;;;\\n',\n",
       " 'min;Minangkabau;min;min;Minangkabauisch;Austronesian;;;\\n',\n",
       " 'mkd;Macedonian;mk;mkd;Mazedonisch;Indo-European;;;\\n',\n",
       " 'mlg;Malagasy;mg;mlg;Malagasy;Austronesian;;;\\n',\n",
       " 'mlt;Maltese;mt;mlt;Maltesisch;Afro-Asiatic;;;\\n',\n",
       " 'mon;Mongolian;mn;mon;Mongolisch;Mongolic;;;\\n',\n",
       " 'mri;Maori;mi;mri;Maori;Austronesian;;;\\n',\n",
       " 'mrj;Western Mari;mrj;mrj;Westmari;Uralic;;;\\n',\n",
       " 'msa;Malay;ms;msa;Malaiisch;Austronesian;;;\\n',\n",
       " 'mwl;Mirandese;mwl;mwl;Mirandés;Indo-European;;;\\n',\n",
       " 'mya;Burmese;my;mya;Birmanisch;Sino-Tibetan;;;\\n',\n",
       " 'myv;Erzya;myv;myv;Ersja-Mordwinisch;Uralic;;;\\n',\n",
       " 'mzn;Mazanderani;mzn;mzn;Masanderanisch;Indo-European;;;\\n',\n",
       " 'nan;Min Nan Chinese;zh-min-nan;nan;Min Nan;Sino-Tibetan;;;\\n',\n",
       " 'nap;Neapolitan;nap;nap;Neapolitanisch;Indo-European;;;\\n',\n",
       " 'nav;Navajo;nv;nav;Navajo;Dené-Yeniseian;;;\\n',\n",
       " 'nci;Classical Nahuatl;nah;nci;Nahuatl;Uto-Aztecan;;;\\n',\n",
       " 'nds;Low German;nds;nds;Niedersächsisch/Ostniederdeutsch;Indo-European;;;\\n',\n",
       " 'nds-nl;West Low German;nds-nl;nds;Nedersaksisch;Indo-European;;;\\n',\n",
       " 'nep;Nepali (macrolanguage);ne;nep;Nepali;Indo-European;;;\\n',\n",
       " 'new;Newari;new;new;Newari;Sino-Tibetan;;;\\n',\n",
       " 'nld;Dutch;nl;nld;Niederländisch;Indo-European;Latin;;\\n',\n",
       " 'nno;Norwegian Nynorsk;nn;nno;Nynorsk;Indo-European;;;\\n',\n",
       " 'nob;Bokmål;no;nob;Bokmål;Indo-European;Latin;Norwegian;\\n',\n",
       " 'nrm;Narom;nrm;nrm;Normannisch;Austronesian;;;\\n',\n",
       " 'nso;Northern Sotho;nso;nso;Nord-Sotho;Niger-Congo;;;\\n',\n",
       " 'oci;Occitan;oc;oci;Okzitanisch;Indo-European;;(post 1500);\\n',\n",
       " 'olo;Livvi-Karelian;olo;olo;Olonetzisch;Uralic;;;\\n',\n",
       " 'ori;Oriya;or;ori;Oriya;Indo-European;;;\\n',\n",
       " \"orm;Oromo;om;orm;Oromo;Afro-Asiatic;Latin:::Ge'ez ;;\\n\",\n",
       " 'oss;Ossetian;os;oss;Ossetisch;Indo-European;;;\\n',\n",
       " 'pag;Pangasinan;pag;pag;Pangasinensisch;Austronesian;;;\\n',\n",
       " 'pam;Pampanga;pam;pam;Kapampangan;Austronesian;;;\\n',\n",
       " 'pan;Panjabi;pa;pan;Panjabi\\xa0in\\xa0Gurmukhi-Schrift;Indo-European;;;\\n',\n",
       " 'pap;Papiamento;pap;pap;Papiamentu;Indo-European;;;\\n',\n",
       " 'pcd;Picard;pcd;pcd;Picardisch;Indo-European;;;\\n',\n",
       " 'pdc;Pennsylvania German;pdc;pdc;Pennsylvaniadeutsch;Indo-European;;;Deitsch:::Pennsylvania Deitsch:::Pennsilfaanisch Deitsch:::Pennsylvania Dutch\\n',\n",
       " 'pfl;Palatine German;pfl;pfl;Pfälzisch;Indo-European;;;\\n',\n",
       " 'pnb;Western Panjabi;pnb;pnb;Panjabi;Indo-European;Arabic;;\\n',\n",
       " 'pol;Polish;pl;pol;Polnisch;Indo-European;Latin;;\\n',\n",
       " 'por;Portuguese;pt;por;Portugiesisch;Indo-European;Latin;;\\n',\n",
       " 'pus;Pushto;ps;pus;Paschtunisch;Indo-European;;;\\n',\n",
       " 'que;Quechua;qu;que;Quechua;Quechuan;;;\\n',\n",
       " 'roa-tara;Tarantino dialect;roa-tara;;Tarandíne;Indo-European;;;\\n',\n",
       " 'roh;Romansh;rm;roh;Bündnerromanisch;Indo-European;;;\\n',\n",
       " 'ron;Romanian;ro;ron;Rumänisch;Indo-European;;;\\n',\n",
       " 'rue;Rusyn;rue;rue;Karpato-Russinisch;Indo-European;;;\\n',\n",
       " 'rup;Aromanian;roa-rup;rup;Aromunisch;Indo-European;Latin;Macedo-Romanian::Vlach;\\n',\n",
       " 'rus;Russian;ru;rus;Russisch;Indo-European;Cyrillic;;\\n',\n",
       " 'sah;Yakut;sah;sah;Jakutisch;Turkic;;;\\n',\n",
       " 'san;Sanskrit;sa;san;Sanskrit;Indo-European;;;\\n',\n",
       " 'scn;Sicilian;scn;scn;Sizilianisch;Indo-European;;;\\n',\n",
       " 'sco;Scots;sco;sco;Scots;Indo-European;;;\\n',\n",
       " 'sgs;Samogitian;bat-smg;sgs;Schemaitisch;Indo-European;;;\\n',\n",
       " 'sin;Sinhala;si;sin;Singhalesisch;Indo-European;;;\\n',\n",
       " 'slk;Slovak;sk;slk;Slowakisch;Indo-European;;;\\n',\n",
       " 'slv;Slovene;sl;slv;Slowenisch;Indo-European;;;\\n',\n",
       " 'sme;Northern Sami;se;sme;Nordsamisch;Uralic;;;\\n',\n",
       " 'sna;Shona;sn;sna;Shona;Niger-Congo;;;\\n',\n",
       " 'snd;Sindhi;sd;snd;Sindhi;Indo-European;;;\\n',\n",
       " 'som;Somali;so;som;Somali;Afro-Asiatic;;;\\n',\n",
       " 'spa;Spanish;es;spa;Spanisch;Indo-European;Latin;;\\n',\n",
       " 'sqi;Albanian;sq;sqi;Albanisch;Indo-European;;;\\n',\n",
       " 'srd;Sardinian;sc;srd;Sardisch;Indo-European;;;\\n',\n",
       " 'srn;Sranan;srn;srn;Sranantongo;Indo-European;;;Sranan Tongo:::Sranantongo:::Surinaams:::Surinamese:::Surinamese Creole:::Taki Taki\\n',\n",
       " 'srp;Serbian;sr;srp;Serbisch;Indo-European;;;\\n',\n",
       " 'stq;Saterfriesisch;stq;stq;Saterfriesisch;Indo-European;;;\\n',\n",
       " 'sun;Sundanese;su;sun;Sundanesisch;Austronesian;;;\\n',\n",
       " 'swa;Swahili (macrolanguage);sw;swa;Swahili;Niger-Congo;;;\\n',\n",
       " 'swe;Swedish;sv;swe;Schwedisch;Indo-European;Latin;;\\n',\n",
       " 'szl;Silesian;szl;szl;Schlesisch;Indo-European;;(polnischer Dialekt);\\n',\n",
       " 'tam;Tamil;ta;tam;Tamil;Dravidian;;;\\n',\n",
       " 'tat;Tatar;tt;tat;Tatarisch;Turkic;;;\\n',\n",
       " 'tcy;Tulu;tcy;tcy;Tulu;Dravidian;Kannada:::Tigalari;;\\n',\n",
       " 'tel;Telugu;te;tel;Telugu;Dravidian;;;\\n',\n",
       " 'tet;Tetum;tet;tet;Tetum;Austronesian;;;\\n',\n",
       " 'tgk;Tajik;tg;tgk;Tadschikisch;Indo-European;;;\\n',\n",
       " 'tgl;Tagalog;tl;tgl;Tagalog;Austronesian;;;\\n',\n",
       " 'tha;Thai;th;tha;Thailändisch;Tai-Kadai;;;\\n',\n",
       " 'ton;Tongan;to;ton;Tongaisch;Austronesian;Latin;;\\n',\n",
       " 'tsn;Tswana;tn;tsn;Setswana;Niger-Congo;Latin;;Setswana\\n',\n",
       " 'tuk;Turkmen;tk;tuk;Turkmenisch;Turkic;;;\\n',\n",
       " 'tur;Turkish;tr;tur;Türkisch;Turkic;;;\\n',\n",
       " 'tyv;Tuvan;tyv;tyv;Tuwinisch;Turkic;Cyrillic;;\\n',\n",
       " 'udm;Udmurt;udm;udm;Udmurtisch;Uralic;;;\\n',\n",
       " 'uig;Uighur;ug;uig;Uigurisch;Turkic;;;\\n',\n",
       " 'ukr;Ukrainian;uk;ukr;Ukrainisch;Indo-European;Cyrillic;;\\n',\n",
       " 'urd;Urdu;ur;urd;Urdu;Indo-European;;;\\n',\n",
       " 'uzb;Uzbek;uz;uzb;Usbekisch;Turkic;;;\\n',\n",
       " 'vec;Venetian;vec;vec;Venetisch;Indo-European;;;\\n',\n",
       " 'vep;Veps;vep;vep;Wepsisch;Uralic;;;\\n',\n",
       " 'vie;Vietnamese;vi;vie;Vietnamesisch;Austronesian;Latin;;\\n',\n",
       " 'vls;Vlaams;vls;vls;Westflämisch;Indo-European;;;\\n',\n",
       " 'vol;Volapük;vo;vol;Volapük;Constructed;;;\\n',\n",
       " 'vro;Võro;fiu-vro;vro;Võro;Uralic;;;\\n',\n",
       " 'war;Waray;war;war;Wáray-Wáray;Austronesian;Latin;;\\n',\n",
       " 'wln;Walloon;wa;wln;Wallonisch;Indo-European;;;\\n',\n",
       " 'wol;Wolof;wo;wol;Wolof;Niger-Congo;Latin:::Arabic;;\\n',\n",
       " 'wuu;Wu Chinese;wuu;wuu;Wu;Sino-Tibetan;;;\\n',\n",
       " 'xho;Xhosa;xh;xho;isiXhosa;Niger-Congo;Latin;;isiXhosa\\n',\n",
       " 'xmf;Mingrelian;xmf;xmf;Mingrelisch;Kartvelian;;;\\n',\n",
       " 'yid;Yiddish;yi;yid;Jiddisch;Indo-European;;;\\n',\n",
       " 'yor;Yoruba;yo;yor;Yoruba;Niger-Congo;;;\\n',\n",
       " 'zea;Zeeuws;zea;zea;Seeländisch;Indo-European;;;\\n',\n",
       " 'zh-yue;Cantonese;zh-yue;;Kantonesisch;Sino-Tibetan;;;\\n',\n",
       " 'zho;Standard Chinese;zh;zho;Chinesisch;Sino-Tibetan;;;\\n']"
      ]
     },
     "execution_count": 48,
     "metadata": {},
     "output_type": "execute_result"
    }
   ],
   "source": [
    "labels"
   ]
  },
  {
   "cell_type": "markdown",
   "metadata": {},
   "source": [
    "# Language identification"
   ]
  },
  {
   "cell_type": "code",
   "execution_count": 15,
   "metadata": {},
   "outputs": [],
   "source": [
    "from nautilus_nlp.models import Fasttext_classifier "
   ]
  },
  {
   "cell_type": "markdown",
   "metadata": {},
   "source": [
    "Ici on va load le modèle pré-entrainer par Fasttext, disponible dans le folder data.\n",
    "On peut utiliser soit le modèle quantizé (900ko) soit le classique"
   ]
  },
  {
   "cell_type": "code",
   "execution_count": 19,
   "metadata": {},
   "outputs": [],
   "source": [
    "model = Fasttext_classifier.Fasttext_clf('../nautilus_nlp/data/lang_identification.ftz')"
   ]
  },
  {
   "cell_type": "code",
   "execution_count": 8,
   "metadata": {},
   "outputs": [
    {
     "name": "stdout",
     "output_type": "stream",
     "text": [
      "N\t100000\n",
      "P@1\t0.759\n",
      "R@1\t0.759\n"
     ]
    }
   ],
   "source": [
    "print_results(*model.test(valid_data))\n"
   ]
  },
  {
   "cell_type": "code",
   "execution_count": 23,
   "metadata": {},
   "outputs": [
    {
     "data": {
      "text/plain": [
       "(('__label__kn',), array([0.99790311]))"
      ]
     },
     "execution_count": 23,
     "metadata": {},
     "output_type": "execute_result"
    }
   ],
   "source": [
    "model.predict(test[3])\n"
   ]
  },
  {
   "cell_type": "markdown",
   "metadata": {},
   "source": [
    "Il faut donc 13 secondes pour entrainer un modèle sur 1.5 Millions de tweets, avec une précision de 0.759. Not bad"
   ]
  },
  {
   "cell_type": "code",
   "execution_count": 9,
   "metadata": {},
   "outputs": [],
   "source": [
    "model.save_model('/home/nautilus_nlp/models/sentiments.bin')"
   ]
  },
  {
   "cell_type": "code",
   "execution_count": 11,
   "metadata": {},
   "outputs": [
    {
     "name": "stdout",
     "output_type": "stream",
     "text": [
      "-rw-r--r-- 1 root root 232M Mar 14 12:51 /home/nautilus_nlp/models/sentiments.bin\n"
     ]
    }
   ],
   "source": [
    "!ls -lh '/home/nautilus_nlp/models/sentiments.bin'"
   ]
  },
  {
   "cell_type": "markdown",
   "metadata": {},
   "source": [
    "Ce modèle fait environ 230Mo"
   ]
  },
  {
   "cell_type": "markdown",
   "metadata": {},
   "source": [
    "Maintenant si on quantize ce modèle"
   ]
  },
  {
   "cell_type": "code",
   "execution_count": 12,
   "metadata": {},
   "outputs": [
    {
     "name": "stdout",
     "output_type": "stream",
     "text": [
      "N\t100000\n",
      "P@1\t0.759\n",
      "R@1\t0.759\n"
     ]
    }
   ],
   "source": [
    "model.quantize(input=train_data, qnorm=True, retrain=True, cutoff=100000)\n",
    "print_results(*model.test(valid_data))\n",
    "model.save_model('/home/nautilus_nlp/models/sentiments.ftz')"
   ]
  },
  {
   "cell_type": "code",
   "execution_count": 13,
   "metadata": {},
   "outputs": [
    {
     "name": "stdout",
     "output_type": "stream",
     "text": [
      "-rw-r--r-- 1 root root 6.8M Mar 14 12:53 /home/nautilus_nlp/models/sentiments.ftz\n"
     ]
    }
   ],
   "source": [
    "!ls -lh '/home/nautilus_nlp/models/sentiments.ftz'"
   ]
  },
  {
   "cell_type": "code",
   "execution_count": null,
   "metadata": {},
   "outputs": [],
   "source": []
  }
 ],
 "metadata": {
  "kernelspec": {
   "display_name": "Python 3",
   "language": "python",
   "name": "python3"
  },
  "language_info": {
   "codemirror_mode": {
    "name": "ipython",
    "version": 3
   },
   "file_extension": ".py",
   "mimetype": "text/x-python",
   "name": "python",
   "nbconvert_exporter": "python",
   "pygments_lexer": "ipython3",
   "version": "3.7.1"
  }
 },
 "nbformat": 4,
 "nbformat_minor": 2
}
