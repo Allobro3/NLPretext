{
 "cells": [
  {
   "cell_type": "markdown",
   "metadata": {},
   "source": [
    "# Text processing tools benchmark"
   ]
  },
  {
   "cell_type": "code",
   "execution_count": 2,
   "metadata": {
    "collapsed": true
   },
   "outputs": [],
   "source": [
    "from urllib import request"
   ]
  },
  {
   "cell_type": "markdown",
   "metadata": {},
   "source": [
    "## Load french text"
   ]
  },
  {
   "cell_type": "code",
   "execution_count": 157,
   "metadata": {
    "collapsed": true
   },
   "outputs": [],
   "source": [
    "url = \"https://www.gutenberg.org/cache/epub/5711/pg5711.txt\""
   ]
  },
  {
   "cell_type": "code",
   "execution_count": 158,
   "metadata": {
    "collapsed": true
   },
   "outputs": [],
   "source": [
    "response = request.urlopen(url)\n",
    "rawfr = response.read().decode('utf8')"
   ]
  },
  {
   "cell_type": "code",
   "execution_count": 159,
   "metadata": {},
   "outputs": [
    {
     "name": "stdout",
     "output_type": "stream",
     "text": [
      "﻿The Project Gutenberg EBook of Germinal, by Emile Zola\r\n",
      "(#8 in our series by Emile Zola)\r\n",
      "\r\n",
      "Copyright laws are changing all over the world. Be sure to check the\r\n",
      "copyright laws for your country before downloading or redistributing\r\n",
      "this or any other Project Gutenberg eBook.\r\n",
      "\r\n",
      "This header should be the first thing seen when viewing this Project\r\n",
      "Gutenberg file.  Please do not remove it.  Do not change or edit the\r\n",
      "header without written permission.\r\n",
      "\r\n",
      "Please read the \"legal small print,\" and ot\n"
     ]
    }
   ],
   "source": [
    "print(rawfr[:500])"
   ]
  },
  {
   "cell_type": "code",
   "execution_count": 160,
   "metadata": {},
   "outputs": [
    {
     "data": {
      "text/plain": [
       "str"
      ]
     },
     "execution_count": 160,
     "metadata": {},
     "output_type": "execute_result"
    }
   ],
   "source": [
    "type(rawfr)"
   ]
  },
  {
   "cell_type": "code",
   "execution_count": 161,
   "metadata": {
    "scrolled": true
   },
   "outputs": [
    {
     "data": {
      "text/plain": [
       "1046377"
      ]
     },
     "execution_count": 161,
     "metadata": {},
     "output_type": "execute_result"
    }
   ],
   "source": [
    "len(rawfr)"
   ]
  },
  {
   "cell_type": "markdown",
   "metadata": {},
   "source": [
    "## Load english text"
   ]
  },
  {
   "cell_type": "code",
   "execution_count": 163,
   "metadata": {
    "collapsed": true
   },
   "outputs": [],
   "source": [
    "url = \"http://www.gutenberg.org/files/2554/2554-0.txt\""
   ]
  },
  {
   "cell_type": "code",
   "execution_count": 164,
   "metadata": {
    "collapsed": true
   },
   "outputs": [],
   "source": [
    "response = request.urlopen(url)\n",
    "raw = response.read().decode('utf8')"
   ]
  },
  {
   "cell_type": "code",
   "execution_count": 169,
   "metadata": {},
   "outputs": [
    {
     "name": "stdout",
     "output_type": "stream",
     "text": [
      "﻿The Project Gutenberg EBook of Crime and Punishment, by Fyodor Dostoevsky\r\n",
      "\r\n",
      "This eBook is for the use of anyone anywhere at no cost and with\r\n",
      "almost no restrictions whatsoever.  You may copy it, give it away or\r\n",
      "re-use it under the terms of the Project Gutenberg License included\r\n",
      "with this eBook or online at www.gutenberg.org\r\n",
      "\r\n",
      "\r\n",
      "Title: Crime and Punishment\r\n",
      "\r\n",
      "Author: Fyodor Dostoevsky\r\n",
      "\r\n",
      "Release Date: March 28, 2006 [EBook #2554]\r\n",
      "Last Updated: October 27, 2016\r\n",
      "\r\n",
      "Language: English\r\n",
      "\r\n",
      "Charac\n"
     ]
    }
   ],
   "source": [
    "print(raw[:500])"
   ]
  },
  {
   "cell_type": "code",
   "execution_count": 166,
   "metadata": {},
   "outputs": [
    {
     "data": {
      "text/plain": [
       "str"
      ]
     },
     "execution_count": 166,
     "metadata": {},
     "output_type": "execute_result"
    }
   ],
   "source": [
    "type(raw)"
   ]
  },
  {
   "cell_type": "code",
   "execution_count": 167,
   "metadata": {},
   "outputs": [
    {
     "data": {
      "text/plain": [
       "1176967"
      ]
     },
     "execution_count": 167,
     "metadata": {},
     "output_type": "execute_result"
    }
   ],
   "source": [
    "len(raw)"
   ]
  },
  {
   "cell_type": "markdown",
   "metadata": {},
   "source": [
    "## Tokenization\n",
    "\n",
    "Several tokenizers are available. As you will see bellow, spaCy is much faster than the other implementations (Moses, NLTK) and often return better results. "
   ]
  },
  {
   "cell_type": "code",
   "execution_count": 106,
   "metadata": {},
   "outputs": [],
   "source": [
    "from nautilus_nlp.preprocessing.tokenizer import tokenize, untokenize"
   ]
  },
  {
   "cell_type": "markdown",
   "metadata": {},
   "source": [
    "### French spaCy"
   ]
  },
  {
   "cell_type": "code",
   "execution_count": 112,
   "metadata": {
    "scrolled": true
   },
   "outputs": [
    {
     "name": "stdout",
     "output_type": "stream",
     "text": [
      "CPU times: user 1.18 s, sys: 44 ms, total: 1.22 s\n",
      "Wall time: 1.24 s\n"
     ]
    }
   ],
   "source": [
    "%%time\n",
    "tokenized = tokenize(rawfr[:1000000], lang_module=\"fr_spacy\")"
   ]
  },
  {
   "cell_type": "code",
   "execution_count": 125,
   "metadata": {},
   "outputs": [
    {
     "name": "stdout",
     "output_type": "stream",
     "text": [
      "920 ms ± 18.4 ms per loop (mean ± std. dev. of 7 runs, 1 loop each)\n"
     ]
    }
   ],
   "source": [
    "%%timeit\n",
    "tokenized = tokenize(rawfr[:1000000], lang_module=\"fr_spacy\")"
   ]
  },
  {
   "cell_type": "markdown",
   "metadata": {},
   "source": [
    "### French Moses"
   ]
  },
  {
   "cell_type": "code",
   "execution_count": 115,
   "metadata": {},
   "outputs": [
    {
     "name": "stdout",
     "output_type": "stream",
     "text": [
      "CPU times: user 21.7 s, sys: 289 ms, total: 22 s\n",
      "Wall time: 22.4 s\n"
     ]
    }
   ],
   "source": [
    "%%time\n",
    "tokenized_moses = tokenize(rawfr[:1000000], lang_module=\"fr_moses\")"
   ]
  },
  {
   "cell_type": "code",
   "execution_count": 126,
   "metadata": {},
   "outputs": [
    {
     "name": "stdout",
     "output_type": "stream",
     "text": [
      "2.54 s ± 27 ms per loop (mean ± std. dev. of 7 runs, 1 loop each)\n"
     ]
    }
   ],
   "source": [
    "%%timeit\n",
    "tokenized_moses = tokenize(rawfr[:1000000], lang_module=\"fr_moses\")"
   ]
  },
  {
   "cell_type": "code",
   "execution_count": 119,
   "metadata": {},
   "outputs": [
    {
     "name": "stdout",
     "output_type": "stream",
     "text": [
      "spacy: 227009 tokens\n",
      "moses: 202475 tokens\n"
     ]
    }
   ],
   "source": [
    "print('spacy: {} tokens\\nmoses: {} tokens'.format(len(tokenized),len(tokenized_moses)))"
   ]
  },
  {
   "cell_type": "code",
   "execution_count": 123,
   "metadata": {},
   "outputs": [
    {
     "name": "stdout",
     "output_type": "stream",
     "text": [
      "['se', 'diriger', 'vers', 'les', '\\r\\n', 'bâtiments', ',', 'il', 'se', 'risqua', 'enfin', 'à', 'gravir', 'le', 'terri', 'sur', 'lequel', 'brûlaient', '\\r\\n', 'les', 'trois', 'feux', 'de', 'houille', ',', 'dans', 'des', 'corbeilles', 'de', 'fonte', ',', 'pour', 'éclairer', '\\r\\n', 'et', 'réchauffer', 'la', 'besogne', '.', ' ', 'Les', 'ouvriers', 'de', 'la', 'coupe', 'à', 'terre', 'avaient', 'dû', '\\r\\n', 'travailler', 'tard', ',', 'on', 'sortait', 'encore', 'les', 'débris', 'inutiles', '.', ' ', 'Maintenant', ',', '\\r\\n', 'il', 'entendait', 'les', 'moulineurs', 'pousser', 'les', 'trains', 'sur', 'les', 'tréteaux', ',', 'il', '\\r\\n', 'distinguait', 'des', 'ombres', 'vivantes', 'culbutant', 'les', 'berlines', ',', 'près', 'de', 'chaque', '\\r\\n', 'feu', '.', '\\r\\n\\r\\n', '--Bonjour', ',', 'dit', '-', 'il', 'en', \"s'\", 'approchant', \"d'\", 'une', 'des', 'corbeilles', '.', '\\r\\n\\r\\n', 'Tournant', 'le', 'dos', 'au', 'brasier', ',', 'le', 'charretier', 'était', 'debout', ',', 'un', 'vieillard', '\\r\\n', 'vêtu', \"d'\", 'un', 'tricot', 'de', 'laine', 'violette', ',', 'coiffé', \"d'\", 'une', 'casquette', 'en', 'poil', 'de', '\\r\\n', 'lapin', ';', 'pendant', 'que', 'son', 'cheval', ',', 'un', 'gros', 'cheval', 'jaune', ',', 'attendait', ',', 'dans', '\\r\\n', 'une', 'immobilité', 'de', 'pierre', ',', \"qu'\", 'on', 'eût', 'vidé', 'les', 'six', 'berlines', 'montées', 'par', '\\r\\n', 'lui', '.', ' ', 'Le', 'manoeuvre', 'employé', 'au', 'culbuteur', ',', 'un', 'gaillard', 'roux', 'et', '\\r\\n', 'efflanqué', ',', 'ne', 'se', 'pressait', 'guère', ',', 'pesait', 'sur', 'le', 'levier', \"d'\", 'une', 'main', '\\r\\n', 'endormie', '.', ' ', 'Et']\n"
     ]
    }
   ],
   "source": [
    "print(tokenized[1000:1200])"
   ]
  },
  {
   "cell_type": "code",
   "execution_count": 124,
   "metadata": {},
   "outputs": [
    {
     "name": "stdout",
     "output_type": "stream",
     "text": [
      "['le', 'dos', 'au', 'brasier', ',', 'le', 'charretier', 'était', 'debout', ',', 'un', 'vieillard', 'vêtu', \"d'\", 'un', 'tricot', 'de', 'laine', 'violette', ',', 'coiffé', \"d'\", 'une', 'casquette', 'en', 'poil', 'de', 'lapin', ';', 'pendant', 'que', 'son', 'cheval', ',', 'un', 'gros', 'cheval', 'jaune', ',', 'attendait', ',', 'dans', 'une', 'immobilité', 'de', 'pierre', ',', \"qu'\", 'on', 'eût', 'vidé', 'les', 'six', 'berlines', 'montées', 'par', 'lui', '.', 'Le', 'manoeuvre', 'employé', 'au', 'culbuteur', ',', 'un', 'gaillard', 'roux', 'et', 'efflanqué', ',', 'ne', 'se', 'pressait', 'guère', ',', 'pesait', 'sur', 'le', 'levier', \"d'\", 'une', 'main', 'endormie', '.', 'Et', ',', 'là-haut', ',', 'le', 'vent', 'redoublait', ',', 'une', 'bise', 'glaciale', ',', 'dont', 'les', 'grandes', 'haleines', 'régulières', 'passaient', 'comme', 'des', 'coups', 'de', 'faux', '.', '--Bonjour', ',', 'répondit', 'le', 'vieux', '.', 'Un', 'silence', 'se', 'fit', '.', \"L'\", 'homme', ',', 'qui', 'se', 'sentait', 'regardé', \"d'\", 'un', 'oeil', 'méfiant', ',', 'dit', 'son', 'nom', 'tout', 'de', 'suite', '.', '--Je', 'me', 'nomme', 'Étienne', 'Lantier', ',', 'je', 'suis', 'machineur', '...', 'Il', \"n'\", 'y', 'a', 'pas', 'de', 'travail', 'ici', '?', 'Les', 'flammes', \"l'\", 'éclairaient', ',', 'il', 'devait', 'avoir', 'vingt', 'et', 'un', 'ans', ',', 'très', 'brun', ',', 'joli', 'homme', ',', \"l'\", 'air', 'fort', 'malgré', 'ses', 'membres', 'menus', '.', 'Rassuré', ',', 'le', 'charretier', 'hochait', 'la', 'tête', '.', '--Du', 'travail', 'pour', 'un', 'machineur', ',', 'non', ',']\n"
     ]
    }
   ],
   "source": [
    "print(tokenized_moses[1000:1200])"
   ]
  },
  {
   "cell_type": "markdown",
   "metadata": {},
   "source": [
    "### English spaCy"
   ]
  },
  {
   "cell_type": "code",
   "execution_count": 170,
   "metadata": {},
   "outputs": [
    {
     "name": "stdout",
     "output_type": "stream",
     "text": [
      "CPU times: user 5 s, sys: 102 ms, total: 5.1 s\n",
      "Wall time: 5.17 s\n"
     ]
    }
   ],
   "source": [
    "%%time\n",
    "tokenized_eng = tokenize(raw[:1000000], lang_module=\"en_spacy\")"
   ]
  },
  {
   "cell_type": "code",
   "execution_count": 171,
   "metadata": {
    "scrolled": true
   },
   "outputs": [
    {
     "name": "stdout",
     "output_type": "stream",
     "text": [
      "5.26 s ± 740 ms per loop (mean ± std. dev. of 7 runs, 1 loop each)\n"
     ]
    }
   ],
   "source": [
    "%%timeit\n",
    "tokenize(raw[:1000000], lang_module=\"en_spacy\")"
   ]
  },
  {
   "cell_type": "code",
   "execution_count": 172,
   "metadata": {},
   "outputs": [
    {
     "data": {
      "text/plain": [
       "['\\ufeffThe',\n",
       " 'Project',\n",
       " 'Gutenberg',\n",
       " 'EBook',\n",
       " 'of',\n",
       " 'Crime',\n",
       " 'and',\n",
       " 'Punishment',\n",
       " ',',\n",
       " 'by']"
      ]
     },
     "execution_count": 172,
     "metadata": {},
     "output_type": "execute_result"
    }
   ],
   "source": [
    "tokenized_eng[:10]"
   ]
  },
  {
   "cell_type": "markdown",
   "metadata": {},
   "source": [
    "### English NLTK "
   ]
  },
  {
   "cell_type": "code",
   "execution_count": 173,
   "metadata": {},
   "outputs": [
    {
     "name": "stdout",
     "output_type": "stream",
     "text": [
      "CPU times: user 2.17 s, sys: 29.3 ms, total: 2.2 s\n",
      "Wall time: 2.22 s\n"
     ]
    }
   ],
   "source": [
    "%%time\n",
    "tokenized_eng_nltk = tokenize(raw[:1000000], lang_module=\"en_nltk\")"
   ]
  },
  {
   "cell_type": "code",
   "execution_count": 174,
   "metadata": {},
   "outputs": [
    {
     "name": "stdout",
     "output_type": "stream",
     "text": [
      "2.47 s ± 565 ms per loop (mean ± std. dev. of 7 runs, 1 loop each)\n"
     ]
    }
   ],
   "source": [
    "%%timeit\n",
    "tokenize(raw[:1000000], lang_module=\"en_nltk\")"
   ]
  },
  {
   "cell_type": "code",
   "execution_count": 175,
   "metadata": {},
   "outputs": [
    {
     "data": {
      "text/plain": [
       "['\\ufeffThe',\n",
       " 'Project',\n",
       " 'Gutenberg',\n",
       " 'EBook',\n",
       " 'of',\n",
       " 'Crime',\n",
       " 'and',\n",
       " 'Punishment',\n",
       " ',',\n",
       " 'by']"
      ]
     },
     "execution_count": 175,
     "metadata": {},
     "output_type": "execute_result"
    }
   ],
   "source": [
    "tokenized_eng_nltk[:10]"
   ]
  },
  {
   "cell_type": "markdown",
   "metadata": {},
   "source": [
    "# Stemming "
   ]
  },
  {
   "cell_type": "code",
   "execution_count": 135,
   "metadata": {
    "collapsed": true
   },
   "outputs": [],
   "source": [
    "from nautilus_nlp.preprocessing.stemming import stem_tokens"
   ]
  },
  {
   "cell_type": "code",
   "execution_count": 136,
   "metadata": {},
   "outputs": [
    {
     "name": "stdout",
     "output_type": "stream",
     "text": [
      "CPU times: user 7.91 s, sys: 37.3 ms, total: 7.95 s\n",
      "Wall time: 7.98 s\n"
     ]
    }
   ],
   "source": [
    "%%time\n",
    "stem = stem_tokens(tokenized,lang='french')"
   ]
  },
  {
   "cell_type": "code",
   "execution_count": 137,
   "metadata": {},
   "outputs": [
    {
     "name": "stdout",
     "output_type": "stream",
     "text": [
      "8.48 s ± 682 ms per loop (mean ± std. dev. of 7 runs, 1 loop each)\n"
     ]
    }
   ],
   "source": [
    "%%timeit\n",
    "stem_tokens(tokenized,lang='french')"
   ]
  },
  {
   "cell_type": "markdown",
   "metadata": {},
   "source": [
    "# Lemmatization"
   ]
  },
  {
   "cell_type": "markdown",
   "metadata": {},
   "source": [
    "## French "
   ]
  },
  {
   "cell_type": "code",
   "execution_count": 138,
   "metadata": {},
   "outputs": [
    {
     "name": "stderr",
     "output_type": "stream",
     "text": [
      "[nltk_data] Downloading package wordnet to /Users/hugo/nltk_data...\n",
      "[nltk_data]   Package wordnet is already up-to-date!\n",
      "[nltk_data] Downloading package averaged_perceptron_tagger to\n",
      "[nltk_data]     /Users/hugo/nltk_data...\n",
      "[nltk_data]   Package averaged_perceptron_tagger is already up-to-\n",
      "[nltk_data]       date!\n"
     ]
    }
   ],
   "source": [
    "from nautilus_nlp.preprocessing.lemmatization import lemmatize_french_tokens"
   ]
  },
  {
   "cell_type": "code",
   "execution_count": 141,
   "metadata": {
    "collapsed": true
   },
   "outputs": [],
   "source": [
    "from nautilus_nlp.preprocessing.preprocess import remove_tokens_with_nonletters"
   ]
  },
  {
   "cell_type": "code",
   "execution_count": 143,
   "metadata": {
    "scrolled": true
   },
   "outputs": [],
   "source": [
    "tokenized = remove_tokens_with_nonletters(tokenized)"
   ]
  },
  {
   "cell_type": "code",
   "execution_count": 144,
   "metadata": {},
   "outputs": [
    {
     "name": "stdout",
     "output_type": "stream",
     "text": [
      "CPU times: user 26.7 s, sys: 6.91 s, total: 33.6 s\n",
      "Wall time: 36.5 s\n"
     ]
    }
   ],
   "source": [
    "%%time\n",
    "lemmatized_tokens = lemmatize_french_tokens(tokenized, module='spacy')"
   ]
  },
  {
   "cell_type": "code",
   "execution_count": 155,
   "metadata": {},
   "outputs": [
    {
     "name": "stdout",
     "output_type": "stream",
     "text": [
      "['de', 'puits', 'le', 'vaste', 'chambre', 'de', 'le', 'machine', 'extraction', 'le', 'tourelle', 'de', 'le', 'pompe', 'ce', 'fosse', 'au', 'fondre', 'un', 'creux', 'avec', 'son', 'construction', 'trapu', 'de', 'brique', 'dresser', 'son', 'comme', 'un', 'corne', 'luire', 'sembler', 'avoir', 'un', 'air', 'mauver', 'de', 'goulu', 'accroupie', 'pour', 'manger', 'le', 'monde', 'tout', 'en', 'examiner', 'il', 'songer', 'luire', 'son', 'existence', 'de', 'vagabond', 'depuis', 'huit', 'jour', 'il', 'chercher', 'un', 'place', 'il', 'se', 'revoir', 'dans', 'son', 'atelier', 'de', 'chemin', 'de', 'fer', 'gifler', 'son', 'chef', 'de', 'Lille', 'de', 'partout', 'le', 'samedi', 'il', 'Marchiennes', 'on', 'dire', 'il', 'y', 'avoir', 'de', 'travail', 'aux', 'Forges', 'et', 'rien', 'ni', 'aux', 'Forges', 'ni', 'chez', 'Sonneville', 'il', 'avoir', 'passer', 'le', 'dimanche', 'sou', 'le', 'bois', 'un', 'chantier', 'de', 'charronnage', 'dont', 'le', 'surveillant', 'venir', 'de', 'expulser', 'deux', 'heure', 'de', 'le', 'nuit', 'Rien', 'plus', 'un', 'sou', 'pas', 'un', 'aller', 'il', 'faire', 'ainsi', 'par', 'le', 'chemin', 'sans', 'but', 'ne', 'savoir', 'seulement', 'abriter', 'contre', 'le', 'bise', 'oui', 'bien', 'un', 'fosse', 'le', 'rare', 'lanterne', 'le', 'carreau', 'un', 'porte', 'brusquement', 'ouvrir', 'luire', 'avoir', 'permettre', 'entrevoir', 'le', 'foyer', 'un', 'dans', 'un', 'vive', 'il', 'expliquer', 'de', 'le', 'pompe', 'ce', 'respiration', 'gros', 'et', 'long', 'souffler', 'sans', 'qui', 'comme', 'halein', 'de', 'monstre', 'le', 'manoeuvre', 'de', 'culbuteur', 'gonfler', 'le', 'dos', 'avoir', 'pas', 'le', 'oeil', 'sur', 'et', 'celui', 'ci', 'aller']\n"
     ]
    }
   ],
   "source": [
    "print(lemmatized_tokens[1000:1200])"
   ]
  },
  {
   "cell_type": "markdown",
   "metadata": {},
   "source": [
    "## English"
   ]
  },
  {
   "cell_type": "code",
   "execution_count": 147,
   "metadata": {
    "collapsed": true,
    "scrolled": true
   },
   "outputs": [],
   "source": [
    "from nautilus_nlp.preprocessing.lemmatization import lemmatize_english_tokens"
   ]
  },
  {
   "cell_type": "code",
   "execution_count": 180,
   "metadata": {
    "collapsed": true
   },
   "outputs": [],
   "source": [
    "tokenized_eng = remove_tokens_with_nonletters(tokenized_eng)"
   ]
  },
  {
   "cell_type": "code",
   "execution_count": 181,
   "metadata": {},
   "outputs": [
    {
     "name": "stdout",
     "output_type": "stream",
     "text": [
      "CPU times: user 29.3 s, sys: 6.85 s, total: 36.2 s\n",
      "Wall time: 38.3 s\n"
     ]
    }
   ],
   "source": [
    "%%time\n",
    "lemmatized_eng = lemmatize_english_tokens(tokenized_eng, module='spacy')"
   ]
  },
  {
   "cell_type": "code",
   "execution_count": 182,
   "metadata": {},
   "outputs": [
    {
     "name": "stdout",
     "output_type": "stream",
     "text": [
      "CPU times: user 34.4 s, sys: 3.82 s, total: 38.2 s\n",
      "Wall time: 39.4 s\n"
     ]
    }
   ],
   "source": [
    "%%time\n",
    "lemmatized_eng_nltk = lemmatize_english_tokens(tokenized_eng, module='nltk')"
   ]
  },
  {
   "cell_type": "code",
   "execution_count": 186,
   "metadata": {},
   "outputs": [
    {
     "name": "stdout",
     "output_type": "stream",
     "text": [
      "['feel', 'ashamed', 'He', 'was', 'hopelessly', 'in', 'debt', 'to', 'his', 'landlady', 'and', 'was', 'afraid', 'of', 'meeting', 'her', 'This', 'was', 'not', 'because', 'he', 'was', 'cowardly', 'and', 'abject', 'quite', 'the', 'contrary', 'but', 'for', 'some', 'time', 'past', 'he', 'had', 'been', 'in', 'an', 'overstrained', 'irritable', 'condition', 'verging', 'on', 'hypochondria', 'He', 'had', 'become', 'so', 'completely', 'absorbed', 'in', 'himself', 'and', 'isolated', 'from', 'his', 'fellows', 'that', 'he', 'dreaded', 'meeting', 'not', 'only', 'his', 'landlady', 'but', 'anyone', 'at', 'all', 'He', 'was', 'crushed', 'by', 'poverty', 'but', 'the', 'anxieties', 'of', 'his', 'position', 'had', 'of', 'late', 'ceased', 'to', 'weigh', 'upon', 'him', 'He', 'had', 'given', 'up', 'attending', 'to', 'matters', 'of', 'practical', 'importance', 'he', 'had', 'lost', 'all', 'desire', 'to', 'do', 'so', 'Nothing', 'that', 'any', 'landlady', 'could', 'do', 'had', 'a', 'real', 'terror', 'for', 'him', 'But', 'to', 'be', 'stopped', 'on', 'the', 'stairs', 'to', 'be', 'forced', 'to', 'listen', 'to', 'her', 'trivial', 'irrelevant', 'gossip', 'to', 'pestering', 'demands', 'for', 'payment', 'threats', 'and', 'complaints', 'and', 'to', 'rack', 'his', 'brains', 'for', 'excuses', 'to', 'prevaricate', 'to', 'lie', 'no', 'rather', 'than', 'that', 'he', 'would', 'creep', 'down', 'the', 'stairs', 'like', 'a', 'cat', 'and', 'slip', 'out', 'unseen', 'This', 'evening', 'however', 'on', 'coming', 'out', 'into', 'the', 'street', 'he', 'became', 'acutely', 'aware', 'of', 'his', 'fears', 'I', 'want', 'to', 'attempt', 'a', 'thing', 'like', 'that', 'and', 'am', 'frightened', 'by', 'these']\n"
     ]
    }
   ],
   "source": [
    "print(tokenized_eng[1000:1200])"
   ]
  },
  {
   "cell_type": "code",
   "execution_count": 184,
   "metadata": {},
   "outputs": [
    {
     "name": "stdout",
     "output_type": "stream",
     "text": [
      "['feel', 'ashamed', '-PRON-', 'be', 'hopelessly', 'in', 'debt', 'to', '-PRON-', 'landlady', 'and', 'be', 'afraid', 'of', 'meet', '-PRON-', 'This', 'be', 'not', 'because', '-PRON-', 'be', 'cowardly', 'and', 'abject', 'quite', 'the', 'contrary', 'but', 'for', 'some', 'time', 'past', '-PRON-', 'have', 'be', 'in', 'an', 'overstrained', 'irritable', 'condition', 'verge', 'on', 'hypochondria', '-PRON-', 'have', 'become', 'so', 'completely', 'absorb', 'in', '-PRON-', 'and', 'isolate', 'from', '-PRON-', 'fellow', 'that', '-PRON-', 'dread', 'meeting', 'not', 'only', '-PRON-', 'landlady', 'but', 'anyone', 'at', 'all', '-PRON-', 'be', 'crush', 'by', 'poverty', 'but', 'the', 'anxiety', 'of', '-PRON-', 'position', 'have', 'of', 'late', 'cease', 'to', 'weigh', 'upon', '-PRON-', '-PRON-', 'have', 'give', 'up', 'attend', 'to', 'matter', 'of', 'practical', 'importance', '-PRON-', 'have', 'lose', 'all', 'desire', 'to', 'do', 'so', 'Nothing', 'that', 'any', 'landlady', 'could', 'do', 'have', 'a', 'real', 'terror', 'for', '-PRON-', 'but', 'to', 'be', 'stop', 'on', 'the', 'stair', 'to', 'be', 'force', 'to', 'listen', 'to', '-PRON-', 'trivial', 'irrelevant', 'gossip', 'to', 'pester', 'demand', 'for', 'payment', 'threat', 'and', 'complaint', 'and', 'to', 'rack', '-PRON-', 'brain', 'for', 'excuse', 'to', 'prevaricate', 'to', 'lie', 'no', 'rather', 'than', 'that', '-PRON-', 'would', 'creep', 'down', 'the', 'stair', 'like', 'a', 'cat', 'and', 'slip', 'out', 'unseen', 'This', 'evening', 'however', 'on', 'come', 'out', 'into', 'the', 'street', '-PRON-', 'become', 'acutely', 'aware', 'of', '-PRON-', 'fear', '-PRON-', 'want', 'to', 'attempt', 'a', 'thing', 'like', 'that', 'and', 'be', 'frighten', 'by', 'these']\n"
     ]
    }
   ],
   "source": [
    "print(lemmatized_eng[1000:1200])"
   ]
  },
  {
   "cell_type": "code",
   "execution_count": 185,
   "metadata": {},
   "outputs": [
    {
     "name": "stdout",
     "output_type": "stream",
     "text": [
      "['feel', 'ashamed', 'He', 'be', 'hopelessly', 'in', 'debt', 'to', 'his', 'landlady', 'and', 'be', 'afraid', 'of', 'meeting', 'her', 'This', 'be', 'not', 'because', 'he', 'be', 'cowardly', 'and', 'abject', 'quite', 'the', 'contrary', 'but', 'for', 'some', 'time', 'past', 'he', 'have', 'be', 'in', 'an', 'overstrain', 'irritable', 'condition', 'verge', 'on', 'hypochondria', 'He', 'have', 'become', 'so', 'completely', 'absorbed', 'in', 'himself', 'and', 'isolated', 'from', 'his', 'fellow', 'that', 'he', 'dread', 'meeting', 'not', 'only', 'his', 'landlady', 'but', 'anyone', 'at', 'all', 'He', 'be', 'crush', 'by', 'poverty', 'but', 'the', 'anxiety', 'of', 'his', 'position', 'have', 'of', 'late', 'cease', 'to', 'weigh', 'upon', 'him', 'He', 'have', 'give', 'up', 'attend', 'to', 'matter', 'of', 'practical', 'importance', 'he', 'have', 'lose', 'all', 'desire', 'to', 'do', 'so', 'Nothing', 'that', 'any', 'landlady', 'could', 'do', 'have', 'a', 'real', 'terror', 'for', 'him', 'But', 'to', 'be', 'stop', 'on', 'the', 'stair', 'to', 'be', 'force', 'to', 'listen', 'to', 'her', 'trivial', 'irrelevant', 'gossip', 'to', 'pester', 'demand', 'for', 'payment', 'threat', 'and', 'complaint', 'and', 'to', 'rack', 'his', 'brain', 'for', 'excuse', 'to', 'prevaricate', 'to', 'lie', 'no', 'rather', 'than', 'that', 'he', 'would', 'creep', 'down', 'the', 'stair', 'like', 'a', 'cat', 'and', 'slip', 'out', 'unseen', 'This', 'even', 'however', 'on', 'come', 'out', 'into', 'the', 'street', 'he', 'become', 'acutely', 'aware', 'of', 'his', 'fear', 'I', 'want', 'to', 'attempt', 'a', 'thing', 'like', 'that', 'and', 'be', 'frighten', 'by', 'these']\n"
     ]
    }
   ],
   "source": [
    "print(lemmatized_eng_nltk[1000:1200])"
   ]
  }
 ],
 "metadata": {
  "kernelspec": {
   "display_name": "Python 3",
   "language": "python",
   "name": "python3"
  },
  "language_info": {
   "codemirror_mode": {
    "name": "ipython",
    "version": 3
   },
   "file_extension": ".py",
   "mimetype": "text/x-python",
   "name": "python",
   "nbconvert_exporter": "python",
   "pygments_lexer": "ipython3",
   "version": "3.7.0"
  }
 },
 "nbformat": 4,
 "nbformat_minor": 2
}
