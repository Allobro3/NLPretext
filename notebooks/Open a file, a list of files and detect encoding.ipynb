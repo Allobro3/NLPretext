{
 "cells": [
  {
   "cell_type": "markdown",
   "metadata": {},
   "source": [
    "# Open Text File with encoding handling"
   ]
  },
  {
   "cell_type": "code",
   "execution_count": 3,
   "metadata": {
    "collapsed": true
   },
   "outputs": [],
   "source": [
    "# Example of a latin1 file\n",
    "s = \"J'aime les frites bien grasse étalon châpeau!\"\n",
    "encoded_s = s.encode('latin-1')\n",
    "with open('somefile.txt', 'wb') as f:\n",
    "    f.write(encoded_s)"
   ]
  },
  {
   "cell_type": "markdown",
   "metadata": {},
   "source": [
    "## text loader"
   ]
  },
  {
   "cell_type": "markdown",
   "metadata": {},
   "source": [
    "If you don't know what the encoding is, you can use the `text_loader()`. Il will try to open with UTF-8, and if it fails it will apply `detect_encoding()`."
   ]
  },
  {
   "cell_type": "code",
   "execution_count": 4,
   "metadata": {
    "collapsed": true
   },
   "outputs": [],
   "source": [
    "from nautilus_nlp.utils.file_loader import text_loader"
   ]
  },
  {
   "cell_type": "code",
   "execution_count": 8,
   "metadata": {},
   "outputs": [
    {
     "name": "stderr",
     "output_type": "stream",
     "text": [
      "WARNING:root:Encoding is not UTF-8.\n"
     ]
    }
   ],
   "source": [
    "_=text_loader('somefile.txt',detectencoding=False)"
   ]
  },
  {
   "cell_type": "markdown",
   "metadata": {},
   "source": [
    "## open text file when you know the encoding"
   ]
  },
  {
   "cell_type": "markdown",
   "metadata": {},
   "source": [
    "If you know the encoding. (you can also use `open_textfile()`)"
   ]
  },
  {
   "cell_type": "code",
   "execution_count": 10,
   "metadata": {},
   "outputs": [
    {
     "data": {
      "text/plain": [
       "\"J'aime les frites bien grasse étalon châpeau!\""
      ]
     },
     "execution_count": 10,
     "metadata": {},
     "output_type": "execute_result"
    }
   ],
   "source": [
    "text_loader('somefile.txt',encoding='latin-1')"
   ]
  },
  {
   "cell_type": "markdown",
   "metadata": {},
   "source": [
    "## detect encoding "
   ]
  },
  {
   "cell_type": "code",
   "execution_count": 11,
   "metadata": {
    "collapsed": true
   },
   "outputs": [],
   "source": [
    "from nautilus_nlp.utils.file_loader import detect_encoding"
   ]
  },
  {
   "cell_type": "code",
   "execution_count": 12,
   "metadata": {},
   "outputs": [
    {
     "data": {
      "text/plain": [
       "{'encoding': 'ISO-8859-1', 'confidence': 0.73, 'language': ''}"
      ]
     },
     "execution_count": 12,
     "metadata": {},
     "output_type": "execute_result"
    }
   ],
   "source": [
    "detect_encoding('somefile.txt')"
   ]
  },
  {
   "cell_type": "markdown",
   "metadata": {},
   "source": [
    "## List files in a folder"
   ]
  },
  {
   "cell_type": "code",
   "execution_count": 13,
   "metadata": {
    "collapsed": true
   },
   "outputs": [],
   "source": [
    "from nautilus_nlp.utils.file_loader import list_files"
   ]
  },
  {
   "cell_type": "code",
   "execution_count": 14,
   "metadata": {},
   "outputs": [
    {
     "data": {
      "text/plain": [
       "['./Sentiment_analysis_FT.ipynb',\n",
       " './Language_identification_with_FT.ipynb',\n",
       " './somefile.txt',\n",
       " './Sentiment analysis using pre-trained models.ipynb',\n",
       " './Language_identification.ipynb',\n",
       " './Spacy_model.ipynb',\n",
       " './Open a file, a list of files and detect encoding.ipynb',\n",
       " './Untitled1.ipynb',\n",
       " './cooking.ftz',\n",
       " './GrandDebat.ipynb',\n",
       " './Common Text Processing operations.ipynb',\n",
       " './Untitled.ipynb',\n",
       " './cooking.bin',\n",
       " './Visualization tools.ipynb']"
      ]
     },
     "execution_count": 14,
     "metadata": {},
     "output_type": "execute_result"
    }
   ],
   "source": [
    "list_files('.') # list files from current folders"
   ]
  },
  {
   "cell_type": "code",
   "execution_count": 15,
   "metadata": {},
   "outputs": [
    {
     "data": {
      "text/plain": [
       "['./Sentiment_analysis_FT.ipynb',\n",
       " './Language_identification_with_FT.ipynb',\n",
       " './Sentiment analysis using pre-trained models.ipynb',\n",
       " './Language_identification.ipynb',\n",
       " './Spacy_model.ipynb',\n",
       " './Open a file, a list of files and detect encoding.ipynb',\n",
       " './Untitled1.ipynb',\n",
       " './GrandDebat.ipynb',\n",
       " './Common Text Processing operations.ipynb',\n",
       " './Untitled.ipynb',\n",
       " './Visualization tools.ipynb']"
      ]
     },
     "execution_count": 15,
     "metadata": {},
     "output_type": "execute_result"
    }
   ],
   "source": [
    "list_files('./*.ipynb') # List files matching specific pattern"
   ]
  },
  {
   "cell_type": "code",
   "execution_count": 21,
   "metadata": {
    "scrolled": true
   },
   "outputs": [
    {
     "data": {
      "text/plain": [
       "['/home/robin/nautilus_nlp/requirements.txt',\n",
       " '/home/robin/nautilus_nlp/test_environment.py',\n",
       " '/home/robin/nautilus_nlp/Makefile',\n",
       " '/home/robin/nautilus_nlp/setup.py',\n",
       " '/home/robin/nautilus_nlp/download_spacy_models.sh',\n",
       " '/home/robin/nautilus_nlp/Dockerfile',\n",
       " '/home/robin/nautilus_nlp/LICENSE',\n",
       " '/home/robin/nautilus_nlp/README.md',\n",
       " '/home/robin/nautilus_nlp/tox.ini',\n",
       " '/home/robin/nautilus_nlp/Untitled.ipynb',\n",
       " '/home/robin/nautilus_nlp/VERSION']"
      ]
     },
     "execution_count": 21,
     "metadata": {},
     "output_type": "execute_result"
    }
   ],
   "source": [
    "# only files will be printed, not folders\n",
    "list_files('/home/robin/nautilus_nlp/*')"
   ]
  },
  {
   "cell_type": "markdown",
   "metadata": {},
   "source": [
    "## Open several text files"
   ]
  },
  {
   "cell_type": "code",
   "execution_count": 22,
   "metadata": {
    "collapsed": true
   },
   "outputs": [],
   "source": [
    "# Let's add another document \n",
    "s = \"Un deuxième exemple de texte en utf-8 cette fois!\"\n",
    "encoded_s = s.encode('utf-8')\n",
    "with open('someadditionalfile.txt', 'wb') as f:\n",
    "    f.write(encoded_s)"
   ]
  },
  {
   "cell_type": "code",
   "execution_count": 23,
   "metadata": {},
   "outputs": [],
   "source": [
    "from nautilus_nlp.utils.file_loader import documents_loader"
   ]
  },
  {
   "cell_type": "code",
   "execution_count": 28,
   "metadata": {},
   "outputs": [
    {
     "name": "stderr",
     "output_type": "stream",
     "text": [
      "WARNING:root:Encoding is not UTF-8.\n",
      "WARNING:root:Trying to detect encoding for somefile.txt\n",
      "INFO:root:detected encoding is ISO-8859-1, with a confidence rate of 0.73\n",
      "WARNING:root:Encoding is not UTF-8.\n",
      "WARNING:root:Trying to detect encoding for somefile.txt\n",
      "INFO:root:detected encoding is ISO-8859-1, with a confidence rate of 0.73\n"
     ]
    }
   ],
   "source": [
    "_=documents_loader('*.txt')"
   ]
  },
  {
   "cell_type": "code",
   "execution_count": 29,
   "metadata": {},
   "outputs": [
    {
     "data": {
      "text/plain": [
       "{'somefile.txt': \"J'aime les frites bien grasse étalon châpeau!\",\n",
       " 'someadditionalfile.txt': \"J'aime les frites bien grasse étalon châpeau!\"}"
      ]
     },
     "execution_count": 29,
     "metadata": {},
     "output_type": "execute_result"
    }
   ],
   "source": [
    "_"
   ]
  },
  {
   "cell_type": "code",
   "execution_count": 30,
   "metadata": {},
   "outputs": [
    {
     "name": "stderr",
     "output_type": "stream",
     "text": [
      "WARNING:root:Encoding is not UTF-8.\n",
      "WARNING:root:Trying to detect encoding for somefile.txt\n",
      "INFO:root:detected encoding is ISO-8859-1, with a confidence rate of 0.73\n",
      "WARNING:root:Encoding is not UTF-8.\n",
      "WARNING:root:Trying to detect encoding for somefile.txt\n",
      "INFO:root:detected encoding is ISO-8859-1, with a confidence rate of 0.73\n"
     ]
    },
    {
     "data": {
      "text/plain": [
       "{'somefile.txt': \"J'aime les frites bien grasse étalon châpeau!\",\n",
       " 'someadditionalfile.txt': \"J'aime les frites bien grasse étalon châpeau!\"}"
      ]
     },
     "execution_count": 30,
     "metadata": {},
     "output_type": "execute_result"
    }
   ],
   "source": [
    "documents_loader(['somefile.txt','someadditionalfile.txt'])"
   ]
  },
  {
   "cell_type": "code",
   "execution_count": 42,
   "metadata": {},
   "outputs": [
    {
     "data": {
      "text/plain": [
       "{'somefile.txt': \"J'aime les frites bien grasse étalon châpeau!\",\n",
       " 'someadditionalfile.txt': \"J'aime les frites bien grasse étalon châpeau!\"}"
      ]
     },
     "execution_count": 42,
     "metadata": {},
     "output_type": "execute_result"
    }
   ],
   "source": [
    "json.loads(documents_loader('test.json',encoding='utf-8'))"
   ]
  },
  {
   "cell_type": "code",
   "execution_count": 40,
   "metadata": {
    "collapsed": true
   },
   "outputs": [],
   "source": [
    "import json\n",
    "\n",
    "with open('test.json','r',encoding='utf-8') as fp:\n",
    "   __= json.load(fp)"
   ]
  },
  {
   "cell_type": "code",
   "execution_count": 41,
   "metadata": {},
   "outputs": [
    {
     "data": {
      "text/plain": [
       "{'somefile.txt': \"J'aime les frites bien grasse étalon châpeau!\",\n",
       " 'someadditionalfile.txt': \"J'aime les frites bien grasse étalon châpeau!\"}"
      ]
     },
     "execution_count": 41,
     "metadata": {},
     "output_type": "execute_result"
    }
   ],
   "source": [
    "__"
   ]
  },
  {
   "cell_type": "code",
   "execution_count": null,
   "metadata": {},
   "outputs": [],
   "source": []
  }
 ],
 "metadata": {
  "kernelspec": {
   "display_name": "Python 3",
   "language": "python",
   "name": "python3"
  },
  "language_info": {
   "codemirror_mode": {
    "name": "ipython",
    "version": 3
   },
   "file_extension": ".py",
   "mimetype": "text/x-python",
   "name": "python",
   "nbconvert_exporter": "python",
   "pygments_lexer": "ipython3",
   "version": "3.7.2"
  }
 },
 "nbformat": 4,
 "nbformat_minor": 2
}
