{
 "cells": [
  {
   "cell_type": "markdown",
   "metadata": {},
   "source": [
    "# Open Text File with encoding handling"
   ]
  },
  {
   "cell_type": "code",
   "execution_count": 1,
   "metadata": {
    "collapsed": true
   },
   "outputs": [],
   "source": [
    "# Example of a latin1 file\n",
    "s = \"J'aime les frites bien grasse étalon châpeau!\"\n",
    "encoded_s = s.encode('latin-1')\n",
    "with open('somefile.txt', 'wb') as f:\n",
    "    f.write(encoded_s)"
   ]
  },
  {
   "cell_type": "markdown",
   "metadata": {},
   "source": [
    "## text loader"
   ]
  },
  {
   "cell_type": "markdown",
   "metadata": {},
   "source": [
    "If you don't know what the encoding is, you can use the `text_loader()`. Il will try to open with UTF-8, and if it fails it will apply `detect_encoding()`."
   ]
  },
  {
   "cell_type": "code",
   "execution_count": 2,
   "metadata": {
    "collapsed": true
   },
   "outputs": [],
   "source": [
    "from nautilus_nlp.utils.file_loader import text_loader"
   ]
  },
  {
   "cell_type": "code",
   "execution_count": 3,
   "metadata": {},
   "outputs": [
    {
     "name": "stderr",
     "output_type": "stream",
     "text": [
      "WARNING:root:Encoding is not UTF-8.\n",
      "WARNING:root:Trying to detect encoding for somefile.txt\n",
      "INFO:root:detected encoding is ISO-8859-1, with a confidence rate of 0.73\n"
     ]
    },
    {
     "data": {
      "text/plain": [
       "\"J'aime les frites bien grasse étalon châpeau!\""
      ]
     },
     "execution_count": 3,
     "metadata": {},
     "output_type": "execute_result"
    }
   ],
   "source": [
    "text_loader('somefile.txt')"
   ]
  },
  {
   "cell_type": "markdown",
   "metadata": {},
   "source": [
    "## open text file when you know the encoding"
   ]
  },
  {
   "cell_type": "markdown",
   "metadata": {},
   "source": [
    "If you know the encoding. (you can also use `open_textfile()`)"
   ]
  },
  {
   "cell_type": "code",
   "execution_count": 4,
   "metadata": {},
   "outputs": [
    {
     "data": {
      "text/plain": [
       "\"J'aime les frites bien grasse étalon châpeau!\""
      ]
     },
     "execution_count": 4,
     "metadata": {},
     "output_type": "execute_result"
    }
   ],
   "source": [
    "text_loader('somefile.txt',encoding='latin-1')"
   ]
  },
  {
   "cell_type": "markdown",
   "metadata": {},
   "source": [
    "## detect encoding "
   ]
  },
  {
   "cell_type": "code",
   "execution_count": 5,
   "metadata": {
    "collapsed": true
   },
   "outputs": [],
   "source": [
    "from nautilus_nlp.utils.file_loader import detect_encoding"
   ]
  },
  {
   "cell_type": "code",
   "execution_count": 6,
   "metadata": {},
   "outputs": [
    {
     "data": {
      "text/plain": [
       "{'encoding': 'ISO-8859-1', 'confidence': 0.73, 'language': ''}"
      ]
     },
     "execution_count": 6,
     "metadata": {},
     "output_type": "execute_result"
    }
   ],
   "source": [
    "detect_encoding('somefile.txt')"
   ]
  },
  {
   "cell_type": "markdown",
   "metadata": {},
   "source": [
    "## List files in a folder"
   ]
  },
  {
   "cell_type": "code",
   "execution_count": 7,
   "metadata": {
    "collapsed": true
   },
   "outputs": [],
   "source": [
    "from nautilus_nlp.utils.file_loader import list_files"
   ]
  },
  {
   "cell_type": "code",
   "execution_count": 8,
   "metadata": {},
   "outputs": [
    {
     "data": {
      "text/plain": [
       "['./somefile.txt',\n",
       " './Open a file, a list of files and detect encoding.ipynb',\n",
       " './Visualization tools.ipynb',\n",
       " './Language_identification.ipynb',\n",
       " './someadditionalfile.txt',\n",
       " './somefile',\n",
       " './Common Text Processing operations.ipynb',\n",
       " './Sentiment_analysis_FT.ipynb',\n",
       " './Spacy_model.ipynb',\n",
       " './Sentiment analysis using pre-trained models.ipynb']"
      ]
     },
     "execution_count": 8,
     "metadata": {},
     "output_type": "execute_result"
    }
   ],
   "source": [
    "list_files('.') # list files from current folders"
   ]
  },
  {
   "cell_type": "code",
   "execution_count": 9,
   "metadata": {},
   "outputs": [
    {
     "data": {
      "text/plain": [
       "['./Open a file, a list of files and detect encoding.ipynb',\n",
       " './Visualization tools.ipynb',\n",
       " './Language_identification.ipynb',\n",
       " './Common Text Processing operations.ipynb',\n",
       " './Sentiment_analysis_FT.ipynb',\n",
       " './Spacy_model.ipynb',\n",
       " './Sentiment analysis using pre-trained models.ipynb']"
      ]
     },
     "execution_count": 9,
     "metadata": {},
     "output_type": "execute_result"
    }
   ],
   "source": [
    "list_files('./*.ipynb') # List files matching specific pattern"
   ]
  },
  {
   "cell_type": "code",
   "execution_count": 10,
   "metadata": {
    "scrolled": true
   },
   "outputs": [
    {
     "data": {
      "text/plain": [
       "['/Users/hugo/Documents/NAUTILUS/nautilus-nlp/LICENSE',\n",
       " '/Users/hugo/Documents/NAUTILUS/nautilus-nlp/requirements.txt',\n",
       " '/Users/hugo/Documents/NAUTILUS/nautilus-nlp/Makefile',\n",
       " '/Users/hugo/Documents/NAUTILUS/nautilus-nlp/README.md',\n",
       " '/Users/hugo/Documents/NAUTILUS/nautilus-nlp/setup.py',\n",
       " '/Users/hugo/Documents/NAUTILUS/nautilus-nlp/tox.ini',\n",
       " '/Users/hugo/Documents/NAUTILUS/nautilus-nlp/test_environment.py']"
      ]
     },
     "execution_count": 10,
     "metadata": {},
     "output_type": "execute_result"
    }
   ],
   "source": [
    "# only files will be printed, not folders\n",
    "list_files('/Users/hugo/Documents/NAUTILUS/nautilus-nlp/')"
   ]
  },
  {
   "cell_type": "markdown",
   "metadata": {},
   "source": [
    "## Open several text files"
   ]
  },
  {
   "cell_type": "code",
   "execution_count": 11,
   "metadata": {
    "collapsed": true
   },
   "outputs": [],
   "source": [
    "# Let's add another document \n",
    "s = \"Un deuxième exemple de texte en utf-8 cette fois!\"\n",
    "encoded_s = s.encode('utf-8')\n",
    "with open('someadditionalfile.txt', 'wb') as f:\n",
    "    f.write(encoded_s)"
   ]
  },
  {
   "cell_type": "code",
   "execution_count": 12,
   "metadata": {},
   "outputs": [],
   "source": [
    "from nautilus_nlp.utils.file_loader import documents_loader"
   ]
  },
  {
   "cell_type": "code",
   "execution_count": 13,
   "metadata": {},
   "outputs": [
    {
     "name": "stderr",
     "output_type": "stream",
     "text": [
      "WARNING:root:Encoding is not UTF-8.\n",
      "WARNING:root:Trying to detect encoding for somefile.txt\n",
      "INFO:root:detected encoding is ISO-8859-1, with a confidence rate of 0.73\n",
      "WARNING:root:Encoding is not UTF-8.\n",
      "WARNING:root:Trying to detect encoding for somefile.txt\n",
      "INFO:root:detected encoding is ISO-8859-1, with a confidence rate of 0.73\n"
     ]
    },
    {
     "data": {
      "text/plain": [
       "{'somefile.txt': \"J'aime les frites bien grasse étalon châpeau!\",\n",
       " 'someadditionalfile.txt': \"J'aime les frites bien grasse étalon châpeau!\"}"
      ]
     },
     "execution_count": 13,
     "metadata": {},
     "output_type": "execute_result"
    }
   ],
   "source": [
    "documents_loader('*.txt')"
   ]
  },
  {
   "cell_type": "code",
   "execution_count": 14,
   "metadata": {},
   "outputs": [
    {
     "name": "stderr",
     "output_type": "stream",
     "text": [
      "WARNING:root:Encoding is not UTF-8.\n",
      "WARNING:root:Trying to detect encoding for somefile.txt\n",
      "INFO:root:detected encoding is ISO-8859-1, with a confidence rate of 0.73\n",
      "WARNING:root:Encoding is not UTF-8.\n",
      "WARNING:root:Trying to detect encoding for somefile.txt\n",
      "INFO:root:detected encoding is ISO-8859-1, with a confidence rate of 0.73\n"
     ]
    },
    {
     "data": {
      "text/plain": [
       "{'somefile.txt': \"J'aime les frites bien grasse étalon châpeau!\",\n",
       " 'someadditionalfile.txt': \"J'aime les frites bien grasse étalon châpeau!\"}"
      ]
     },
     "execution_count": 14,
     "metadata": {},
     "output_type": "execute_result"
    }
   ],
   "source": [
    "documents_loader(['somefile.txt','someadditionalfile.txt'])"
   ]
  },
  {
   "cell_type": "code",
   "execution_count": 15,
   "metadata": {},
   "outputs": [
    {
     "data": {
      "text/plain": [
       "'Un deuxième exemple de texte en utf-8 cette fois!'"
      ]
     },
     "execution_count": 15,
     "metadata": {},
     "output_type": "execute_result"
    }
   ],
   "source": [
    "documents_loader('someadditionalfile.txt',encoding='utf-8')"
   ]
  },
  {
   "cell_type": "code",
   "execution_count": null,
   "metadata": {
    "collapsed": true
   },
   "outputs": [],
   "source": []
  }
 ],
 "metadata": {
  "kernelspec": {
   "display_name": "Python 3",
   "language": "python",
   "name": "python3"
  },
  "language_info": {
   "codemirror_mode": {
    "name": "ipython",
    "version": 3
   },
   "file_extension": ".py",
   "mimetype": "text/x-python",
   "name": "python",
   "nbconvert_exporter": "python",
   "pygments_lexer": "ipython3",
   "version": "3.7.0"
  }
 },
 "nbformat": 4,
 "nbformat_minor": 2
}
