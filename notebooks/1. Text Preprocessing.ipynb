{
 "cells": [
  {
   "cell_type": "markdown",
   "metadata": {},
   "source": [
    "# Text Preprocessing \n",
    "\n",
    "This notebook will guide you through the common text preprocessing operations. \n",
    "All the preprocessing functions are located in ** nautilus_nlp.preprocessing.preprocess ** "
   ]
  },
  {
   "cell_type": "markdown",
   "metadata": {},
   "source": [
    "## Load an example"
   ]
  },
  {
   "cell_type": "code",
   "execution_count": 1,
   "metadata": {},
   "outputs": [],
   "source": [
    "english_text = \"\"\"\n",
    "The nautilus 🐚🐚 (from the Latin form of the original Ancient Greek: ναυτίλος, 'sailor') is a pelagic marine mollusc of the cephalopod family Nautilidae, the sole extant family of the superfamily Nautilaceae and of its smaller but near equal suborder, Nautilina.\n",
    "\n",
    "It comprises six living species in two genera, the type of which is the genus Nautilus. Though it more specifically refers to species Nautilus pompilius, the name chambered nautilus is also used for any of the Nautilidae. All are protected under CITES Appendix II.\n",
    "\n",
    "Nautilidae, both extant and extinct, are characterized by involute or more or less convolute shells that are generally smooth, with compressed or depressed whorl sections, straight to sinuous sutures, and a tubular, generally central siphuncle.[3] Having survived relatively unchanged for millions of years, nautiluses represent the only living members of the subclass nautiloidea, and are often considered \"living fossils\".\n",
    "\n",
    "The word nautilus is derived from the Greek ναυτίλος nautílos and originally referred to the paper nautiluses of the genus Argonauta, which are actually octopuses. The word nautílos literally means \"sailor\", as paper nautiluses were thought to use two of their arms as sails.[4]\n",
    "\n",
    "Here's how you can contact us:\n",
    "\n",
    "Source : https://en.wikipedia.org/wiki/Nautilus\n",
    "Contact:\n",
    "Email : Jules.vernes@nautilus.net\n",
    "Phone : +33 6 24 24 24 24 \n",
    "Cost : €45\n",
    "\"\"\""
   ]
  },
  {
   "cell_type": "markdown",
   "metadata": {},
   "source": [
    "## Preprocess_text: Wrap-up function "
   ]
  },
  {
   "cell_type": "code",
   "execution_count": 2,
   "metadata": {},
   "outputs": [],
   "source": [
    "from nautilus_nlp.preprocessing.preprocess import preprocess_text"
   ]
  },
  {
   "cell_type": "code",
   "execution_count": 3,
   "metadata": {},
   "outputs": [
    {
     "name": "stdout",
     "output_type": "stream",
     "text": [
      "nautilus latin form original ancient greek ναυτιλος sailor pelagic marine mollusc cephalopod family nautilidae sole extant family superfamily nautilaceae smaller equal suborder nautilina comprises living species genera type genus nautilus specifically refers species nautilus pompilius chambered nautilus nautilidae protected cites appendix ii nautilidae extant extinct characterized involute convolute shells generally smooth compressed depressed whorl sections straight sinuous sutures tubular generally central siphuncle survived unchanged millions years nautiluses represent living members subclass nautiloidea considered living fossils word nautilus derived greek ναυτιλος nautilos originally referred paper nautiluses genus argonauta octopuses word nautilos literally means sailor paper nautiluses thought arms sails contact source https en wikipedia org wiki nautilus contact email phone cost\n"
     ]
    }
   ],
   "source": [
    "clean_txt = preprocess_text(english_text,\n",
    "                            fix_unicode=False,\n",
    "                            lowercase=True,\n",
    "                            no_urls=False,\n",
    "                            no_emails=True,\n",
    "                            no_phone_numbers=True,\n",
    "                            phone_method='detection', # if detection is specified, will use a phone lib \n",
    "                            phone_countries_format=[None, 'US', 'FR'], # these phone format will be tested. None stands for international.\n",
    "                            no_numbers=True,\n",
    "                            no_currency_symbols=True,\n",
    "                            no_punct=True,\n",
    "                            no_contractions=True, #will unpack english contractions\n",
    "                            no_accents=True,\n",
    "                            no_emoji=True,\n",
    "                            replace_with=' ',\n",
    "                            no_stopwords='en' #will remove english stopwords\n",
    "                           )\n",
    "print(clean_txt)"
   ]
  },
  {
   "cell_type": "markdown",
   "metadata": {
    "collapsed": true
   },
   "source": [
    "# Overview of the pre-processing functions\n",
    "\n",
    "If you prefer, you can use all the preprocessing functions one-by-one and create your own pre-processing pipeline. It is recommended, as there are many parameters that are not necessary included in the wrap-up function. \n",
    "\n",
    "For the sake of simplicity, we won't go through all the pre-processing function. Please report to the documentation if you want more details!"
   ]
  },
  {
   "cell_type": "markdown",
   "metadata": {},
   "source": [
    "## Remove end-of-line characters"
   ]
  },
  {
   "cell_type": "code",
   "execution_count": 4,
   "metadata": {},
   "outputs": [],
   "source": [
    "from nautilus_nlp.preprocessing.preprocess import remove_EOL_characters"
   ]
  },
  {
   "cell_type": "code",
   "execution_count": 5,
   "metadata": {},
   "outputs": [
    {
     "name": "stdout",
     "output_type": "stream",
     "text": [
      "Before:\n",
      "-------\n",
      "hello words!\n",
      "this is the second line.\n",
      "\n",
      "After:\n",
      "-------\n",
      "hello words! this is the second line.\n"
     ]
    }
   ],
   "source": [
    "text_with_eol = \"hello words!\\nthis is the second line.\"\n",
    "\n",
    "text_without_eol = remove_EOL_characters(text_with_eol)\n",
    "\n",
    "print('Before:\\n-------\\n{}\\n\\nAfter:\\n-------\\n{}'.format(text_with_eol,text_without_eol))"
   ]
  },
  {
   "cell_type": "markdown",
   "metadata": {},
   "source": [
    "## Stop words"
   ]
  },
  {
   "cell_type": "code",
   "execution_count": 6,
   "metadata": {},
   "outputs": [],
   "source": [
    "from nautilus_nlp.preprocessing.preprocess import get_stopwords"
   ]
  },
  {
   "cell_type": "code",
   "execution_count": 7,
   "metadata": {},
   "outputs": [
    {
     "name": "stdout",
     "output_type": "stream",
     "text": [
      "['soi-même', 'prealable', 'ayez', 'fi', 'concernant', 'dedans', 'celles', 'tiennes', 'plutôt', 'bravo']\n"
     ]
    }
   ],
   "source": [
    "french_sw = get_stopwords('fr')\n",
    "\n",
    "print(french_sw[:10])"
   ]
  },
  {
   "cell_type": "code",
   "execution_count": 8,
   "metadata": {},
   "outputs": [],
   "source": [
    "from nautilus_nlp.preprocessing.preprocess import remove_stopwords"
   ]
  },
  {
   "cell_type": "code",
   "execution_count": 9,
   "metadata": {},
   "outputs": [
    {
     "name": "stdout",
     "output_type": "stream",
     "text": [
      "Before:\n",
      "-------\n",
      "['je', 'suis', 'malade', 'et', 'toi', '?']\n",
      "\n",
      "After:\n",
      "-------\n",
      "['malade', '?']\n"
     ]
    }
   ],
   "source": [
    "tokens_with_sw = ['je','suis','malade','et','toi','?']\n",
    "\n",
    "tokens_without_sw = remove_stopwords(tokens_with_sw, stopwords=french_sw)\n",
    "\n",
    "print('Before:\\n-------\\n{}\\n\\nAfter:\\n-------\\n{}'.format(tokens_with_sw,tokens_without_sw))"
   ]
  },
  {
   "cell_type": "markdown",
   "metadata": {},
   "source": [
    "## Fix bad unicode"
   ]
  },
  {
   "cell_type": "code",
   "execution_count": 10,
   "metadata": {},
   "outputs": [],
   "source": [
    "from nautilus_nlp.preprocessing.preprocess import fix_bad_unicode"
   ]
  },
  {
   "cell_type": "code",
   "execution_count": 11,
   "metadata": {},
   "outputs": [
    {
     "name": "stdout",
     "output_type": "stream",
     "text": [
      "Before:\n",
      "-------\n",
      "Les augmentations de rÃ©munÃ©rations\n",
      "\n",
      "After:\n",
      "-------\n",
      "Les augmentations de rémunérations\n"
     ]
    }
   ],
   "source": [
    "before = \"Les augmentations de rÃ©munÃ©rations\"\n",
    "\n",
    "after = fix_bad_unicode(before)\n",
    "\n",
    "print('Before:\\n-------\\n{}\\n\\nAfter:\\n-------\\n{}'.format(before,after))"
   ]
  },
  {
   "cell_type": "markdown",
   "metadata": {},
   "source": [
    "## Phone Numbers"
   ]
  },
  {
   "cell_type": "code",
   "execution_count": 12,
   "metadata": {},
   "outputs": [],
   "source": [
    "from nautilus_nlp.preprocessing.preprocess import replace_phone_numbers"
   ]
  },
  {
   "cell_type": "code",
   "execution_count": 13,
   "metadata": {},
   "outputs": [
    {
     "name": "stdout",
     "output_type": "stream",
     "text": [
      "Before:\n",
      "-------\n",
      "(541) 754-3010 is a US. Phone\n",
      "\n",
      "After:\n",
      "-------\n",
      "  is a US. Phone\n"
     ]
    }
   ],
   "source": [
    "before = '(541) 754-3010 is a US. Phone'\n",
    "\n",
    "after = replace_phone_numbers(before, replace_with=' ')\n",
    "\n",
    "print('Before:\\n-------\\n{}\\n\\nAfter:\\n-------\\n{}'.format(before,after))"
   ]
  },
  {
   "cell_type": "markdown",
   "metadata": {},
   "source": [
    "There is also an util to detect phone numbers. Here we will provide a country list. It takes time because it will loop over the text with all the supported country codes."
   ]
  },
  {
   "cell_type": "code",
   "execution_count": 14,
   "metadata": {},
   "outputs": [],
   "source": [
    "import nautilus_nlp.utils.phone_number as phone"
   ]
  },
  {
   "cell_type": "code",
   "execution_count": 15,
   "metadata": {},
   "outputs": [
    {
     "name": "stdout",
     "output_type": "stream",
     "text": [
      "CPU times: user 296 ms, sys: 0 ns, total: 296 ms\n",
      "Wall time: 294 ms\n"
     ]
    },
    {
     "data": {
      "text/plain": [
       "['(541) 754-3010', '754-3010']"
      ]
     },
     "execution_count": 15,
     "metadata": {},
     "output_type": "execute_result"
    }
   ],
   "source": [
    "%%time\n",
    "phone.extract_phone_numbers(before, countrylist=phone.SUPPORTED_COUNTRY)"
   ]
  },
  {
   "cell_type": "markdown",
   "metadata": {},
   "source": [
    "There is also a **phone parser** class, that helps you to extract information from phone numbers. "
   ]
  },
  {
   "cell_type": "code",
   "execution_count": 16,
   "metadata": {},
   "outputs": [],
   "source": [
    "p = phone.phoneParser()"
   ]
  },
  {
   "cell_type": "code",
   "execution_count": 17,
   "metadata": {},
   "outputs": [
    {
     "data": {
      "text/plain": [
       "PhoneNumber(country_code=1, national_number=5417543010, extension=None, italian_leading_zero=None, number_of_leading_zeros=None, country_code_source=0, preferred_domestic_carrier_code=None)"
      ]
     },
     "execution_count": 17,
     "metadata": {},
     "output_type": "execute_result"
    }
   ],
   "source": [
    "p.parse_number('(541) 754-3010',region_code='US')"
   ]
  },
  {
   "cell_type": "code",
   "execution_count": 18,
   "metadata": {},
   "outputs": [
    {
     "data": {
      "text/plain": [
       "'541-754-3010'"
      ]
     },
     "execution_count": 18,
     "metadata": {},
     "output_type": "execute_result"
    }
   ],
   "source": [
    "p.format_number('INTERNATIONAL')"
   ]
  },
  {
   "cell_type": "markdown",
   "metadata": {},
   "source": [
    "# Emojis"
   ]
  },
  {
   "cell_type": "code",
   "execution_count": 19,
   "metadata": {},
   "outputs": [],
   "source": [
    "from nautilus_nlp.preprocessing.preprocess import remove_emoji, convert_emoji_to_text"
   ]
  },
  {
   "cell_type": "code",
   "execution_count": 20,
   "metadata": {},
   "outputs": [
    {
     "name": "stdout",
     "output_type": "stream",
     "text": [
      "Before:\n",
      "-------\n",
      "My favorite emojies are: 🎅🏿⌚\n",
      "\n",
      "After:\n",
      "-------\n",
      "My favorite emojies are: \n"
     ]
    }
   ],
   "source": [
    "before = 'My favorite emojies are: 🎅🏿⌚'\n",
    "\n",
    "after = remove_emoji(before)\n",
    "\n",
    "print('Before:\\n-------\\n{}\\n\\nAfter:\\n-------\\n{}'.format(before,after))"
   ]
  },
  {
   "cell_type": "code",
   "execution_count": 21,
   "metadata": {},
   "outputs": [
    {
     "name": "stdout",
     "output_type": "stream",
     "text": [
      "Before:\n",
      "-------\n",
      "My favorite emojies are: 🎅🏿⌚\n",
      "\n",
      "After:\n",
      "-------\n",
      "My favorite emojies are: Santa_Claus_dark_skin_tonewatch\n"
     ]
    }
   ],
   "source": [
    "before = 'My favorite emojies are: 🎅🏿⌚'\n",
    "\n",
    "after = convert_emoji_to_text(before, code_delimiters=('', ''))\n",
    "\n",
    "print('Before:\\n-------\\n{}\\n\\nAfter:\\n-------\\n{}'.format(before,after))"
   ]
  }
 ],
 "metadata": {
  "kernelspec": {
   "display_name": "Python 3",
   "language": "python",
   "name": "python3"
  },
  "language_info": {
   "codemirror_mode": {
    "name": "ipython",
    "version": 3
   },
   "file_extension": ".py",
   "mimetype": "text/x-python",
   "name": "python",
   "nbconvert_exporter": "python",
   "pygments_lexer": "ipython3",
   "version": "3.7.3"
  }
 },
 "nbformat": 4,
 "nbformat_minor": 2
}
