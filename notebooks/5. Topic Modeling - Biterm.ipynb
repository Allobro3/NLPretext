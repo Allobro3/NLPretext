{
 "cells": [
  {
   "cell_type": "markdown",
   "metadata": {},
   "source": [
    "# 5. Topic Modeling - Biterm Model"
   ]
  },
  {
   "cell_type": "code",
   "execution_count": 23,
   "metadata": {},
   "outputs": [],
   "source": [
    "from nautilus_nlp.models.biterm_model import BiterModel\n",
    "import pandas as pd"
   ]
  },
  {
   "cell_type": "markdown",
   "metadata": {},
   "source": [
    "### Step 1: Load the dataset"
   ]
  },
  {
   "cell_type": "code",
   "execution_count": 24,
   "metadata": {},
   "outputs": [],
   "source": [
    "text = ['Cola 1.5L Carrefour',\n",
    " 'Pepsi Cola Light 1.5L',\n",
    " 'Pepsi Cola Twist Light\\n',\n",
    " 'Cola 1.5L CRF DISC',\n",
    " 'Coca-Cola Light 1.5L',\n",
    " 'Coca-Cola Light 4x0.5L',\n",
    " 'Coca-Cola Light 6x0.3L\\n',\n",
    " 'Panzani 200g x 4 bio',\n",
    " 'Rustichella 150g bio',\n",
    " 'De Cecco - Fusilli bio',\n",
    " 'Gerblé sans Gluten50g\\n',\n",
    " 'Penne de riz 100g sans gluten',\n",
    " 'Spaghetti de maïs 50g sans Glute']\n",
    "\n",
    "text2 = ['De Cecco - Fusilli bio',\n",
    " 'Gerblé sans Gluten50g\\n',\n",
    " 'Penne de riz 100g sans gluten',\n",
    " 'Spaghetti de maïs 50g sans Glute']"
   ]
  },
  {
   "cell_type": "markdown",
   "metadata": {},
   "source": [
    "### Step 2: Prediction"
   ]
  },
  {
   "cell_type": "code",
   "execution_count": 25,
   "metadata": {},
   "outputs": [
    {
     "name": "stderr",
     "output_type": "stream",
     "text": [
      "100%|██████████| 100/100 [00:00<00:00, 109.64it/s]\n"
     ]
    },
    {
     "ename": "TypeError",
     "evalue": "get_cluster_biterm() got an unexpected keyword argument 'data'",
     "output_type": "error",
     "traceback": [
      "\u001b[0;31m---------------------------------------------------------------------------\u001b[0m",
      "\u001b[0;31mTypeError\u001b[0m                                 Traceback (most recent call last)",
      "\u001b[0;32m<ipython-input-25-d9e10b244579>\u001b[0m in \u001b[0;36m<module>\u001b[0;34m\u001b[0m\n\u001b[1;32m     12\u001b[0m \u001b[0;34m\u001b[0m\u001b[0m\n\u001b[1;32m     13\u001b[0m clusters = BitermModel.get_cluster_biterm(data=text\n\u001b[0;32m---> 14\u001b[0;31m                                           ,nb_word_per_cluster=nb_word_per_cluster)\n\u001b[0m",
      "\u001b[0;31mTypeError\u001b[0m: get_cluster_biterm() got an unexpected keyword argument 'data'"
     ]
    }
   ],
   "source": [
    "nb_topics = 5\n",
    "nb_word_per_cluster = 5\n",
    "nb_iteration = 100\n",
    "language = 'english'\n",
    "\n",
    "BitermModel = biterm_model(data=text\n",
    "                           , nb_topics=nb_topics\n",
    "                           , nb_iteration=nb_iteration\n",
    "                           , lang='english')\n",
    "\n",
    "BitermModel.train_biterm_model()\n",
    "\n",
    "clusters = BitermModel.get_cluster_biterm(data=text2\n",
    "                                          ,nb_word_per_cluster=nb_word_per_cluster)"
   ]
  },
  {
   "cell_type": "code",
   "execution_count": null,
   "metadata": {},
   "outputs": [],
   "source": [
    "pd.DataFrame(clusters)"
   ]
  },
  {
   "cell_type": "code",
   "execution_count": 22,
   "metadata": {},
   "outputs": [
    {
     "name": "stdout",
     "output_type": "stream",
     "text": [
      "text: Cola 1.5L Carrefour\n",
      "cluster indice: 3\n"
     ]
    }
   ],
   "source": [
    "index = 0\n",
    "cluster_predicted = BitermModel.get_text_topic(index=index)\n",
    "\n",
    "print(\"text:\", text[index])\n",
    "print(\"cluster indice:\", cluster_predicted)"
   ]
  },
  {
   "cell_type": "code",
   "execution_count": null,
   "metadata": {},
   "outputs": [],
   "source": []
  },
  {
   "cell_type": "code",
   "execution_count": null,
   "metadata": {},
   "outputs": [],
   "source": []
  }
 ],
 "metadata": {
  "kernelspec": {
   "display_name": "Python 3",
   "language": "python",
   "name": "python3"
  },
  "language_info": {
   "codemirror_mode": {
    "name": "ipython",
    "version": 3
   },
   "file_extension": ".py",
   "mimetype": "text/x-python",
   "name": "python",
   "nbconvert_exporter": "python",
   "pygments_lexer": "ipython3",
   "version": "3.7.1"
  },
  "toc": {
   "base_numbering": 1,
   "nav_menu": {},
   "number_sections": true,
   "sideBar": true,
   "skip_h1_title": false,
   "title_cell": "Table of Contents",
   "title_sidebar": "Contents",
   "toc_cell": false,
   "toc_position": {},
   "toc_section_display": true,
   "toc_window_display": false
  }
 },
 "nbformat": 4,
 "nbformat_minor": 2
}
