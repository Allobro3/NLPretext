{
 "cells": [
  {
   "cell_type": "markdown",
   "metadata": {},
   "source": [
    "# 5. Topic Modeling - Biterm Model"
   ]
  },
  {
   "cell_type": "code",
   "execution_count": 1,
   "metadata": {},
   "outputs": [],
   "source": [
    "from nautilus_nlp.models.biterm_model import BitermModel\n",
    "import pandas as pd"
   ]
  },
  {
   "cell_type": "markdown",
   "metadata": {},
   "source": [
    "### Step 1: Load the dataset"
   ]
  },
  {
   "cell_type": "code",
   "execution_count": 2,
   "metadata": {},
   "outputs": [],
   "source": [
    "text = ['Cola 1.5L Carrefour',\n",
    " 'Pepsi Cola Light 1.5L',\n",
    " 'Pepsi Cola Twist Light\\n',\n",
    " 'Cola 1.5L CRF DISC',\n",
    " 'Coca-Cola Light 1.5L',\n",
    " 'Coca-Cola Light 4x0.5L',\n",
    " 'Coca-Cola Light 6x0.3L\\n',\n",
    " 'Panzani 200g x 4 bio',\n",
    " 'Rustichella 150g bio',\n",
    " 'De Cecco - Fusilli bio',\n",
    " 'Gerblé sans Gluten50g\\n',\n",
    " 'Penne de riz 100g sans gluten',\n",
    " 'Spaghetti de maïs 50g sans Glute']\n"
   ]
  },
  {
   "cell_type": "markdown",
   "metadata": {},
   "source": [
    "### Step 2: Prediction"
   ]
  },
  {
   "cell_type": "code",
   "execution_count": 3,
   "metadata": {},
   "outputs": [
    {
     "name": "stderr",
     "output_type": "stream",
     "text": [
      "100%|██████████| 100/100 [00:00<00:00, 101.68it/s]\n"
     ]
    }
   ],
   "source": [
    "nb_topics = 5\n",
    "nb_word_per_cluster = 5\n",
    "nb_iteration = 100\n",
    "language = 'english'\n",
    "\n",
    "biterm_model = BitermModel(data=text\n",
    "                           , nb_topics=nb_topics\n",
    "                           , nb_iteration=nb_iteration\n",
    "                           , lang=language)\n",
    "\n",
    "clusters = biterm_model.get_clusters(nb_word_per_cluster)"
   ]
  },
  {
   "cell_type": "code",
   "execution_count": 4,
   "metadata": {},
   "outputs": [
    {
     "data": {
      "text/html": [
       "<div>\n",
       "<style scoped>\n",
       "    .dataframe tbody tr th:only-of-type {\n",
       "        vertical-align: middle;\n",
       "    }\n",
       "\n",
       "    .dataframe tbody tr th {\n",
       "        vertical-align: top;\n",
       "    }\n",
       "\n",
       "    .dataframe thead th {\n",
       "        text-align: right;\n",
       "    }\n",
       "</style>\n",
       "<table border=\"1\" class=\"dataframe\">\n",
       "  <thead>\n",
       "    <tr style=\"text-align: right;\">\n",
       "      <th></th>\n",
       "      <th>coherence</th>\n",
       "      <th>top_words</th>\n",
       "    </tr>\n",
       "  </thead>\n",
       "  <tbody>\n",
       "    <tr>\n",
       "      <th>0</th>\n",
       "      <td>-5.631692</td>\n",
       "      <td>[5l, cola, disc, crf, carrefour]</td>\n",
       "    </tr>\n",
       "    <tr>\n",
       "      <th>1</th>\n",
       "      <td>-4.350759</td>\n",
       "      <td>[light, cola, coca, 5l, pepsi]</td>\n",
       "    </tr>\n",
       "    <tr>\n",
       "      <th>2</th>\n",
       "      <td>3.635635</td>\n",
       "      <td>[100g, sans, riz, penne, gluten]</td>\n",
       "    </tr>\n",
       "    <tr>\n",
       "      <th>3</th>\n",
       "      <td>2.537023</td>\n",
       "      <td>[sans, spaghetti, 50g, maïs, glute]</td>\n",
       "    </tr>\n",
       "    <tr>\n",
       "      <th>4</th>\n",
       "      <td>-0.235566</td>\n",
       "      <td>[bio, 150g, rustichella, 200g, panzani]</td>\n",
       "    </tr>\n",
       "  </tbody>\n",
       "</table>\n",
       "</div>"
      ],
      "text/plain": [
       "   coherence                                top_words\n",
       "0  -5.631692         [5l, cola, disc, crf, carrefour]\n",
       "1  -4.350759           [light, cola, coca, 5l, pepsi]\n",
       "2   3.635635         [100g, sans, riz, penne, gluten]\n",
       "3   2.537023      [sans, spaghetti, 50g, maïs, glute]\n",
       "4  -0.235566  [bio, 150g, rustichella, 200g, panzani]"
      ]
     },
     "execution_count": 4,
     "metadata": {},
     "output_type": "execute_result"
    }
   ],
   "source": [
    "pd.DataFrame(clusters)"
   ]
  },
  {
   "cell_type": "code",
   "execution_count": 7,
   "metadata": {},
   "outputs": [
    {
     "name": "stdout",
     "output_type": "stream",
     "text": [
      "text: Cola 1.5L Carrefour\n",
      "cluster indice: 0\n"
     ]
    }
   ],
   "source": [
    "index = 0\n",
    "cluster_predicted = biterm_model.get_document_topic(index=index)\n",
    "\n",
    "print(\"text:\", text[index])\n",
    "print(\"cluster indice:\", cluster_predicted)"
   ]
  },
  {
   "cell_type": "code",
   "execution_count": null,
   "metadata": {},
   "outputs": [],
   "source": []
  },
  {
   "cell_type": "code",
   "execution_count": null,
   "metadata": {},
   "outputs": [],
   "source": []
  },
  {
   "cell_type": "code",
   "execution_count": null,
   "metadata": {},
   "outputs": [],
   "source": []
  }
 ],
 "metadata": {
  "kernelspec": {
   "display_name": "Python 3",
   "language": "python",
   "name": "python3"
  },
  "language_info": {
   "codemirror_mode": {
    "name": "ipython",
    "version": 3
   },
   "file_extension": ".py",
   "mimetype": "text/x-python",
   "name": "python",
   "nbconvert_exporter": "python",
   "pygments_lexer": "ipython3",
   "version": "3.7.1"
  },
  "toc": {
   "base_numbering": 1.0,
   "nav_menu": {},
   "number_sections": true,
   "sideBar": true,
   "skip_h1_title": false,
   "title_cell": "Table of Contents",
   "title_sidebar": "Contents",
   "toc_cell": false,
   "toc_position": {},
   "toc_section_display": true,
   "toc_window_display": false
  }
 },
 "nbformat": 4,
 "nbformat_minor": 2
}
