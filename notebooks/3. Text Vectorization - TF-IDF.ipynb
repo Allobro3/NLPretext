{
 "cells": [
  {
   "cell_type": "markdown",
   "metadata": {},
   "source": [
    "# Text vectorization - TF-IDF"
   ]
  },
  {
   "cell_type": "markdown",
   "metadata": {},
   "source": [
    "## Open files"
   ]
  },
  {
   "cell_type": "code",
   "execution_count": 1,
   "metadata": {
    "scrolled": false
   },
   "outputs": [],
   "source": [
    "import pandas as pd"
   ]
  },
  {
   "cell_type": "code",
   "execution_count": 2,
   "metadata": {},
   "outputs": [],
   "source": [
    "df = pd.read_csv('https://storage.googleapis.com/dataset-uploader/bbc/bbc-text.csv')"
   ]
  },
  {
   "cell_type": "code",
   "execution_count": 3,
   "metadata": {},
   "outputs": [
    {
     "data": {
      "text/html": [
       "<div>\n",
       "<style scoped>\n",
       "    .dataframe tbody tr th:only-of-type {\n",
       "        vertical-align: middle;\n",
       "    }\n",
       "\n",
       "    .dataframe tbody tr th {\n",
       "        vertical-align: top;\n",
       "    }\n",
       "\n",
       "    .dataframe thead th {\n",
       "        text-align: right;\n",
       "    }\n",
       "</style>\n",
       "<table border=\"1\" class=\"dataframe\">\n",
       "  <thead>\n",
       "    <tr style=\"text-align: right;\">\n",
       "      <th></th>\n",
       "      <th>category</th>\n",
       "      <th>text</th>\n",
       "    </tr>\n",
       "  </thead>\n",
       "  <tbody>\n",
       "    <tr>\n",
       "      <th>0</th>\n",
       "      <td>tech</td>\n",
       "      <td>tv future in the hands of viewers with home th...</td>\n",
       "    </tr>\n",
       "    <tr>\n",
       "      <th>1</th>\n",
       "      <td>business</td>\n",
       "      <td>worldcom boss  left books alone  former worldc...</td>\n",
       "    </tr>\n",
       "    <tr>\n",
       "      <th>2</th>\n",
       "      <td>sport</td>\n",
       "      <td>tigers wary of farrell  gamble  leicester say ...</td>\n",
       "    </tr>\n",
       "    <tr>\n",
       "      <th>3</th>\n",
       "      <td>sport</td>\n",
       "      <td>yeading face newcastle in fa cup premiership s...</td>\n",
       "    </tr>\n",
       "    <tr>\n",
       "      <th>4</th>\n",
       "      <td>entertainment</td>\n",
       "      <td>ocean s twelve raids box office ocean s twelve...</td>\n",
       "    </tr>\n",
       "  </tbody>\n",
       "</table>\n",
       "</div>"
      ],
      "text/plain": [
       "        category                                               text\n",
       "0           tech  tv future in the hands of viewers with home th...\n",
       "1       business  worldcom boss  left books alone  former worldc...\n",
       "2          sport  tigers wary of farrell  gamble  leicester say ...\n",
       "3          sport  yeading face newcastle in fa cup premiership s...\n",
       "4  entertainment  ocean s twelve raids box office ocean s twelve..."
      ]
     },
     "execution_count": 3,
     "metadata": {},
     "output_type": "execute_result"
    }
   ],
   "source": [
    "df.head()"
   ]
  },
  {
   "cell_type": "code",
   "execution_count": 4,
   "metadata": {},
   "outputs": [
    {
     "data": {
      "text/plain": [
       "sport            511\n",
       "business         510\n",
       "politics         417\n",
       "tech             401\n",
       "entertainment    386\n",
       "Name: category, dtype: int64"
      ]
     },
     "execution_count": 4,
     "metadata": {},
     "output_type": "execute_result"
    }
   ],
   "source": [
    "df.category.value_counts()"
   ]
  },
  {
   "cell_type": "markdown",
   "metadata": {},
   "source": [
    "# Preprocess"
   ]
  },
  {
   "cell_type": "code",
   "execution_count": 5,
   "metadata": {},
   "outputs": [
    {
     "name": "stderr",
     "output_type": "stream",
     "text": [
      "[nltk_data] Downloading package punkt to /Users/hugo/nltk_data...\n",
      "[nltk_data]   Package punkt is already up-to-date!\n",
      "[nltk_data] Downloading package wordnet to /Users/hugo/nltk_data...\n",
      "[nltk_data]   Package wordnet is already up-to-date!\n",
      "[nltk_data] Downloading package averaged_perceptron_tagger to\n",
      "[nltk_data]     /Users/hugo/nltk_data...\n",
      "[nltk_data]   Package averaged_perceptron_tagger is already up-to-\n",
      "[nltk_data]       date!\n"
     ]
    }
   ],
   "source": [
    "from nautilus_nlp.preprocessing.tokenizer import tokenize\n",
    "from nautilus_nlp.preprocessing.lemmatization import lemmatize_english_tokens"
   ]
  },
  {
   "cell_type": "code",
   "execution_count": 6,
   "metadata": {},
   "outputs": [
    {
     "name": "stdout",
     "output_type": "stream",
     "text": [
      "CPU times: user 3min 16s, sys: 15.2 s, total: 3min 31s\n",
      "Wall time: 3min 50s\n"
     ]
    }
   ],
   "source": [
    "%%time\n",
    "df['tokens'] = df.text.apply(lambda row: tokenize(row))\n",
    "df['tokens'] = df.tokens.apply(lambda row: lemmatize_english_tokens(row))\n",
    "df['tokens'] = df.tokens.apply(lambda row: ' '.join(row))"
   ]
  },
  {
   "cell_type": "markdown",
   "metadata": {},
   "source": [
    "# Split dataframe"
   ]
  },
  {
   "cell_type": "code",
   "execution_count": 7,
   "metadata": {},
   "outputs": [],
   "source": [
    "from sklearn.model_selection import train_test_split"
   ]
  },
  {
   "cell_type": "code",
   "execution_count": 8,
   "metadata": {
    "collapsed": true
   },
   "outputs": [],
   "source": [
    "train, test = train_test_split(df, test_size=0.2)"
   ]
  },
  {
   "cell_type": "markdown",
   "metadata": {},
   "source": [
    "# Compute TF-IDF"
   ]
  },
  {
   "cell_type": "code",
   "execution_count": 63,
   "metadata": {},
   "outputs": [],
   "source": [
    "from nautilus_nlp.preprocessing.text_vectorizers import TfidfTextVectorizer"
   ]
  },
  {
   "cell_type": "code",
   "execution_count": 64,
   "metadata": {},
   "outputs": [],
   "source": [
    "tfidf = Tfidf(max_df=0.95, #ignore terms that have a document frequency strictly higher \n",
    "              min_df=0.01,\n",
    "              max_features=10000,\n",
    "              encoding='utf-8',\n",
    "              #stop_words=SW,\n",
    "              norm=None,\n",
    "              #ngram_range=(1, 2))\n",
    "              )"
   ]
  },
  {
   "cell_type": "code",
   "execution_count": 65,
   "metadata": {},
   "outputs": [
    {
     "data": {
      "text/plain": [
       "TfidfVectorizer(analyzer='word', binary=False, decode_error='strict',\n",
       "        dtype=<class 'numpy.float64'>, encoding='utf-8', input='content',\n",
       "        lowercase=True, max_df=0.95, max_features=10000, min_df=0.01,\n",
       "        ngram_range=(1, 1), norm=None, preprocessor=None, smooth_idf=True,\n",
       "        stop_words=None, strip_accents=None, sublinear_tf=False,\n",
       "        token_pattern='(?u)\\\\b\\\\w\\\\w+\\\\b', tokenizer=None, use_idf=True,\n",
       "        vocabulary=None)"
      ]
     },
     "execution_count": 65,
     "metadata": {},
     "output_type": "execute_result"
    }
   ],
   "source": [
    "# uses Sci-kit learn TfidfVectorizer()\n",
    "# You can pass all the arguments supported by sci-kit \n",
    "# Doc : https://scikit-learn.org/stable/modules/generated/sklearn.feature_extraction.text.TfidfVectorizer.html\n",
    "tfidf.tfidf_vectorizer"
   ]
  },
  {
   "cell_type": "code",
   "execution_count": 66,
   "metadata": {},
   "outputs": [],
   "source": [
    "list_of_docs = list(train.tokens)"
   ]
  },
  {
   "cell_type": "code",
   "execution_count": 67,
   "metadata": {},
   "outputs": [
    {
     "data": {
      "text/plain": [
       "['coach ranieri sack by valencia claudio ranieri have be sack as valencia coach just eight month after take charge at the primera liga club for the second time in -PRON- career .    the decision be take at a board meeting follow the side s surprise elimination from the uefa cup .    -PRON- understand    and -PRON- understand    that the result in the last few week have not be the most appropriate     say club president juan bautista . former assistant antonio lopez will take over as the new coach . italian ranieri take over the valencia job in june 2004 have be replace at chelsea by jose mourinho .    thing begin well but the spanish champion extend -PRON- winless streak to six after lose to race santander last weekend . that defeat be then follow by a uefa cup exit at the hand of steaua bucharest . ranieri first take charge of valencia in 1997    guide -PRON- to the king s cup and help -PRON- to qualify for the champion league . the 54-year - old then move to atletico madrid in 1999    before join chelsea the following year .',\n",
       " 'fox    too reliant on reality tv    the head of -PRON- tv network fox have admit the broadcaster have rely too heavily on reality tv show such as the poor - rating who s -PRON- daddy .    chief executive gail berman say    in the case of this fall -PRON- drift to too much on the unscripted side . the series who s -PRON- daddy    where a young woman try to pick -PRON- natural father for a cash prize cause outrage from adoption group and rate badly . last season    fox s prime - time audience fall by 600 000 to 5.9 million . ms berman say :    i think the audience expect loud thing from fox . sometimes -PRON- work    and sometimes -PRON- don t.     who s -PRON- daddy    the first episode of which be show on 3 january    pull in a disappointing audience of 6.3 million    accord to the nielsen rating system . five other episode of the show have also be film will be drop from fox s schedule    ms berman say . -PRON- be predict a drop in rating even for some of the network s establish reality show    such as american idol    which be due to start -PRON- fourth series this week . fox have unveil a new strategy last year promise to launch new show every season    include the traditionally quiet summer season . though that have meet with a poor reception    ms berman say    there s no question that the audience    in -PRON- mind    be ready    willing and able to accept new programming in the summer . fox have change this plan    launch new show in may instead of june . one of the new show will be the animate series american dad    make by seth macfarlane    the creator of family guy . that series    after become a hit on dvd    be also set to return with new episode .']"
      ]
     },
     "execution_count": 67,
     "metadata": {},
     "output_type": "execute_result"
    }
   ],
   "source": [
    "list_of_docs[:2]"
   ]
  },
  {
   "cell_type": "code",
   "execution_count": 68,
   "metadata": {},
   "outputs": [
    {
     "data": {
      "text/plain": [
       "<1780x2631 sparse matrix of type '<class 'numpy.float64'>'\n",
       "\twith 253961 stored elements in Compressed Sparse Row format>"
      ]
     },
     "execution_count": 68,
     "metadata": {},
     "output_type": "execute_result"
    }
   ],
   "source": [
    "# Compute the word count vector matrix.\n",
    "# will apply \n",
    "tfidf.compute_tfidf(list_of_docs)"
   ]
  },
  {
   "cell_type": "code",
   "execution_count": 69,
   "metadata": {
    "scrolled": true
   },
   "outputs": [
    {
     "data": {
      "text/plain": [
       "{'song': 324.615,\n",
       " 'wage': 316.535,\n",
       " 'roddick': 293.646,\n",
       " 'minimum': 249.423,\n",
       " 'music': 73.292,\n",
       " 'zealand': 158.674,\n",
       " 'robbie': 157.772,\n",
       " 'terrorist': 153.899,\n",
       " 'good': 150.616,\n",
       " 'gadget': 110.235,\n",
       " 'game': 72.458,\n",
       " 'party': 129.043,\n",
       " 'increase': 126.747,\n",
       " '25': 124.598,\n",
       " 'hunt': 91.696,\n",
       " 'pay': 119.675,\n",
       " 'muslim': 112.338,\n",
       " 'student': 111.842,\n",
       " 'threat': 104.862,\n",
       " 'black': 74.54,\n",
       " 'liverpool': 102.93,\n",
       " 'child': 100.285,\n",
       " 'airline': 97.48,\n",
       " 'stone': 96.591,\n",
       " 'mini': 84.296,\n",
       " 'jamie': 94.213,\n",
       " 'play': 93.087,\n",
       " 'virus': 86.885,\n",
       " 'film': 91.146,\n",
       " 'hour': 91.019,\n",
       " 'spam': 90.217,\n",
       " 'halo': 88.648,\n",
       " 'mobile': 88.555,\n",
       " 'edward': 88.215,\n",
       " 'lord': 87.918,\n",
       " 'search': 69.985,\n",
       " 'wale': 86.423,\n",
       " 'yuko': 75.514,\n",
       " 'government': 85.639,\n",
       " 'serve': 82.564,\n",
       " 'machine': 82.494,\n",
       " 'pension': 80.303,\n",
       " 'asylum': 80.242,\n",
       " 'actress': 79.333,\n",
       " 'that': 78.981,\n",
       " 'online': 78.916,\n",
       " 'council': 77.999,\n",
       " 'cash': 77.595,\n",
       " 'fraud': 77.403,\n",
       " 'musician': 77.291,\n",
       " 'actor': 76.803,\n",
       " 'gaming': 76.749,\n",
       " 'lee': 76.256,\n",
       " 'site': 75.507,\n",
       " 'argentina': 74.892,\n",
       " 'attack': 74.878,\n",
       " 'award': 74.606,\n",
       " 'business': 74.087,\n",
       " 'broadband': 74.083,\n",
       " 'hip': 73.725,\n",
       " 'mail': 72.974,\n",
       " 'not': 72.792,\n",
       " 'aviator': 72.647,\n",
       " 'japan': 72.55,\n",
       " 'what': 72.332,\n",
       " 'chart': 72.264,\n",
       " 'document': 72.234,\n",
       " 'jackson': 72.138,\n",
       " 'card': 71.933,\n",
       " 'deutsche': 71.647,\n",
       " 'point': 71.343,\n",
       " 'vote': 71.299,\n",
       " 'radio': 71.215,\n",
       " 'china': 70.847,\n",
       " 'police': 70.759,\n",
       " 'poster': 70.121,\n",
       " 'phone': 69.937,\n",
       " 'file': 69.836,\n",
       " 'dvd': 69.522,\n",
       " 'apple': 69.522,\n",
       " 'spanish': 69.42}"
      ]
     },
     "execution_count": 69,
     "metadata": {},
     "output_type": "execute_result"
    }
   ],
   "source": [
    "# Get highest-weighted words\n",
    "tfidf.get_top_tfidf(n=100)"
   ]
  },
  {
   "cell_type": "code",
   "execution_count": 70,
   "metadata": {
    "scrolled": false
   },
   "outputs": [
    {
     "name": "stdout",
     "output_type": "stream",
     "text": [
      "['cup', 'coach', 'sack', 'chelsea', 'take', 'understand', 'champion', 'club', 'charge', 'qualify']\n",
      "['fox', 'audience', 'show', 'rating', 'episode', 'reality', 'series', 'ms', 'new', 'season']\n",
      "['member', 'share', 'qualify', 'profit', '42', 'payment', 'society', 'than', 'building', 'worth']\n",
      "['inflation', 'rate', 'rise', 'move', 'growth', 'flexibility', 'percentage', 'borrowing', 'economic', 'interest']\n",
      "['profit', 'drug', 'treatment', 'disappointing', '2005', 'sale', '5bn', 'development', 'fall', 'year']\n",
      "['woman', 'ministry', 'employ', 'prince', 'foreign', 'say', 'minister', 'news', 'difficulty', 'acquire']\n",
      "['brown', 'labour', 'mr', 'blair', 'election', 'outline', 'manifesto', 'role', 'article', 'writing']\n",
      "['iraq', 'bank', 'alexander', 'foreign', 'economy', 'many', 'work', 'mr', 'private', 'people']\n",
      "['win', 'liverpool', 'trophy', 'steven', 'think', 'league', 'draw', 'champion', 'only', 'side']\n",
      "['rating', 'bbc', 'prove', 'network', 'series', 'lose', 'slot', 'comeback', 'desperate', 'reportedly']\n"
     ]
    }
   ],
   "source": [
    "# Get highest-weighted words per document\n",
    "for doc in list_of_docs[:10]:\n",
    "    print(tfidf.get_top_tfidf_per_doc(doc,n=10))"
   ]
  },
  {
   "cell_type": "markdown",
   "metadata": {},
   "source": [
    "# Apply Tf-idf to new documents"
   ]
  },
  {
   "cell_type": "code",
   "execution_count": 71,
   "metadata": {},
   "outputs": [
    {
     "data": {
      "text/html": [
       "<div>\n",
       "<style scoped>\n",
       "    .dataframe tbody tr th:only-of-type {\n",
       "        vertical-align: middle;\n",
       "    }\n",
       "\n",
       "    .dataframe tbody tr th {\n",
       "        vertical-align: top;\n",
       "    }\n",
       "\n",
       "    .dataframe thead th {\n",
       "        text-align: right;\n",
       "    }\n",
       "</style>\n",
       "<table border=\"1\" class=\"dataframe\">\n",
       "  <thead>\n",
       "    <tr style=\"text-align: right;\">\n",
       "      <th></th>\n",
       "      <th>category</th>\n",
       "      <th>text</th>\n",
       "      <th>tokens</th>\n",
       "    </tr>\n",
       "  </thead>\n",
       "  <tbody>\n",
       "    <tr>\n",
       "      <th>1992</th>\n",
       "      <td>tech</td>\n",
       "      <td>us peer-to-peer pirates convicted the first co...</td>\n",
       "      <td>-PRON- peer - to - peer pirate convict the fir...</td>\n",
       "    </tr>\n",
       "    <tr>\n",
       "      <th>1281</th>\n",
       "      <td>sport</td>\n",
       "      <td>hewitt falls to dent lleyton hewitt suffered a...</td>\n",
       "      <td>hewitt fall to dent lleyton hewitt suffer a sh...</td>\n",
       "    </tr>\n",
       "    <tr>\n",
       "      <th>844</th>\n",
       "      <td>tech</td>\n",
       "      <td>why cell will get the hard sell the world is c...</td>\n",
       "      <td>why cell will get the hard sell the world be c...</td>\n",
       "    </tr>\n",
       "    <tr>\n",
       "      <th>1188</th>\n",
       "      <td>entertainment</td>\n",
       "      <td>belle named  best scottish band  belle &amp; sebas...</td>\n",
       "      <td>belle name    good scottish band    belle &amp; se...</td>\n",
       "    </tr>\n",
       "    <tr>\n",
       "      <th>1573</th>\n",
       "      <td>business</td>\n",
       "      <td>karachi stocks hit historic high the karachi s...</td>\n",
       "      <td>karachi stock hit historic high the karachi st...</td>\n",
       "    </tr>\n",
       "  </tbody>\n",
       "</table>\n",
       "</div>"
      ],
      "text/plain": [
       "           category                                               text  \\\n",
       "1992           tech  us peer-to-peer pirates convicted the first co...   \n",
       "1281          sport  hewitt falls to dent lleyton hewitt suffered a...   \n",
       "844            tech  why cell will get the hard sell the world is c...   \n",
       "1188  entertainment  belle named  best scottish band  belle & sebas...   \n",
       "1573       business  karachi stocks hit historic high the karachi s...   \n",
       "\n",
       "                                                 tokens  \n",
       "1992  -PRON- peer - to - peer pirate convict the fir...  \n",
       "1281  hewitt fall to dent lleyton hewitt suffer a sh...  \n",
       "844   why cell will get the hard sell the world be c...  \n",
       "1188  belle name    good scottish band    belle & se...  \n",
       "1573  karachi stock hit historic high the karachi st...  "
      ]
     },
     "execution_count": 71,
     "metadata": {},
     "output_type": "execute_result"
    }
   ],
   "source": [
    "test.head()"
   ]
  },
  {
   "cell_type": "code",
   "execution_count": 72,
   "metadata": {
    "scrolled": true
   },
   "outputs": [
    {
     "data": {
      "text/plain": [
       "1992    [peer, copyright, piracy, network, plead, guil...\n",
       "1281    [seed, hewitt, break, feel, beat, strong, four...\n",
       "844     [cell, processor, technology, sony, computer, ...\n",
       "1188    [scottish, band, brit, musical, list, act, awa...\n",
       "1573    [market, stock, analyst, political, index, mon...\n",
       "687     [film, institute, news, trend, broadcast, cite...\n",
       "1830    [rule, consumer, mobile, firm, service, phone,...\n",
       "1134    [net, standard, dr, address, work, challenge, ...\n",
       "1015    [rugby, glasgow, edinburgh, murray, border, ro...\n",
       "1665    [olympic, football, game, career, woman, final...\n",
       "1648    [referee, apologise, arsenal, match, assistant...\n",
       "487     [club, manager, return, at, unveil, jone, as, ...\n",
       "1124    [lewis, council, labour, football, wage, gover...\n",
       "1094    [gold, debt, relief, reserve, meeting, price, ...\n",
       "744     [advert, drug, article, medical, employee, let...\n",
       "939     [musical, theatre, stage, kelly, absolute, per...\n",
       "1742    [creative, art, technology, graphic, bt, engin...\n",
       "1368    [debt, relief, brown, uk, chancellor, poverty,...\n",
       "880     [child, film, original, screen, show, that, mo...\n",
       "136     [sing, tune, theme, die, perform, singer, show...\n",
       "376     [olympic, test, athlete, decision, appeal, mot...\n",
       "1558    [newcastle, henry, season, game, play, arsenal...\n",
       "521     [bt, broadband, customer, call, offer, free, i...\n",
       "1760    [goal, score, didn, win, that, good, spirit, p...\n",
       "34      [guilty, plead, insurance, investigation, exec...\n",
       "881     [election, young, electoral, vote, commission,...\n",
       "302     [euro, company, sport, possible, family, analy...\n",
       "515     [actress, notice, immigration, india, work, ye...\n",
       "932     [period, quarter, athletic, growth, earning, s...\n",
       "1084    [drug, cheap, europe, sell, africa, aid, afric...\n",
       "                              ...                        \n",
       "1853    [sequel, star, box, office, weekend, robert, d...\n",
       "1390    [labour, blair, cabinet, minister, serve, stan...\n",
       "743     [liverpool, league, champion, season, competit...\n",
       "715     [lee, film, man, create, book, series, release...\n",
       "1842    [alliance, japanese, shareholder, car, talk, s...\n",
       "499     [argentina, debt, accept, offer, 6bn, investor...\n",
       "461     [musical, sir, film, actress, richard, child, ...\n",
       "902     [mobile, tv, service, music, handset, download...\n",
       "1014    [tory, tax, howard, cut, election, taxis, plan...\n",
       "446     [broadband, tv, analyst, number, research, net...\n",
       "222     [jump, title, championship, mark, european, se...\n",
       "884     [union, merger, super, executive, hold, meetin...\n",
       "1483    [fight, german, band, liam, officer, fine, kic...\n",
       "1325    [ask, search, site, entry, web, acquisition, i...\n",
       "1257    [prime, mr, blair, chancellor, minister, brown...\n",
       "725     [plant, india, factory, indian, official, cons...\n",
       "1679    [mail, virus, warn, infect, internet, computer...\n",
       "714     [express, financial, american, spin, off, sell...\n",
       "1864    [opera, voice, feature, available, page, appea...\n",
       "2068    [game, political, campaign, video, learn, tool...\n",
       "1651    [deutsche, exchange, bid, stock, talk, cash, o...\n",
       "1610    [film, voice, robert, will, girl, actress, web...\n",
       "516     [campaign, labour, brown, mr, election, role, ...\n",
       "2059    [brown, mr, blair, labour, mps, party, electio...\n",
       "841     [france, wale, injury, slam, grand, ireland, n...\n",
       "221     [tour, tournament, prize, king, each, gamer, s...\n",
       "421     [talent, decide, agree, star, midfielder, play...\n",
       "1075    [game, video, company, news, tag, art, as, eye...\n",
       "1601    [france, against, wale, ireland, play, england...\n",
       "986     [relay, service, phone, language, video, peopl...\n",
       "Name: tokens, Length: 445, dtype: object"
      ]
     },
     "execution_count": 72,
     "metadata": {},
     "output_type": "execute_result"
    }
   ],
   "source": [
    "test.tokens.apply(lambda row: tfidf.get_top_tfidf_per_doc(row))"
   ]
  },
  {
   "cell_type": "code",
   "execution_count": 73,
   "metadata": {
    "collapsed": true
   },
   "outputs": [],
   "source": [
    "test_tfidf_matrix = tfidf.apply_tfidf_to_documents(list(test.tokens))"
   ]
  },
  {
   "cell_type": "code",
   "execution_count": 74,
   "metadata": {},
   "outputs": [
    {
     "data": {
      "text/plain": [
       "{'cell': 94.188,\n",
       " 'mobile': 92.405,\n",
       " 'camera': 90.674,\n",
       " 'mini': 89.254,\n",
       " 'china': 87.516,\n",
       " 'rugby': 85.906,\n",
       " 'film': 82.031,\n",
       " 'bt': 76.256}"
      ]
     },
     "execution_count": 74,
     "metadata": {},
     "output_type": "execute_result"
    }
   ],
   "source": [
    "tfidf.get_top_tfidf(test_tfidf_matrix)"
   ]
  },
  {
   "cell_type": "code",
   "execution_count": null,
   "metadata": {
    "collapsed": true
   },
   "outputs": [],
   "source": []
  }
 ],
 "metadata": {
  "kernelspec": {
   "display_name": "Python 3",
   "language": "python",
   "name": "python3"
  },
  "language_info": {
   "codemirror_mode": {
    "name": "ipython",
    "version": 3
   },
   "file_extension": ".py",
   "mimetype": "text/x-python",
   "name": "python",
   "nbconvert_exporter": "python",
   "pygments_lexer": "ipython3",
   "version": "3.7.0"
  }
 },
 "nbformat": 4,
 "nbformat_minor": 2
}
