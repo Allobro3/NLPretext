{
 "cells": [
  {
   "cell_type": "markdown",
   "metadata": {},
   "source": [
    "# Text vectorization - TF-IDF"
   ]
  },
  {
   "cell_type": "markdown",
   "metadata": {},
   "source": [
    "## Open files"
   ]
  },
  {
   "cell_type": "code",
   "execution_count": 1,
   "metadata": {
    "scrolled": false
   },
   "outputs": [],
   "source": [
    "import pandas as pd"
   ]
  },
  {
   "cell_type": "code",
   "execution_count": 2,
   "metadata": {},
   "outputs": [],
   "source": [
    "df = pd.read_csv('https://storage.googleapis.com/dataset-uploader/bbc/bbc-text.csv')"
   ]
  },
  {
   "cell_type": "code",
   "execution_count": 3,
   "metadata": {},
   "outputs": [
    {
     "data": {
      "text/html": [
       "<div>\n",
       "<style scoped>\n",
       "    .dataframe tbody tr th:only-of-type {\n",
       "        vertical-align: middle;\n",
       "    }\n",
       "\n",
       "    .dataframe tbody tr th {\n",
       "        vertical-align: top;\n",
       "    }\n",
       "\n",
       "    .dataframe thead th {\n",
       "        text-align: right;\n",
       "    }\n",
       "</style>\n",
       "<table border=\"1\" class=\"dataframe\">\n",
       "  <thead>\n",
       "    <tr style=\"text-align: right;\">\n",
       "      <th></th>\n",
       "      <th>category</th>\n",
       "      <th>text</th>\n",
       "    </tr>\n",
       "  </thead>\n",
       "  <tbody>\n",
       "    <tr>\n",
       "      <th>0</th>\n",
       "      <td>tech</td>\n",
       "      <td>tv future in the hands of viewers with home th...</td>\n",
       "    </tr>\n",
       "    <tr>\n",
       "      <th>1</th>\n",
       "      <td>business</td>\n",
       "      <td>worldcom boss  left books alone  former worldc...</td>\n",
       "    </tr>\n",
       "    <tr>\n",
       "      <th>2</th>\n",
       "      <td>sport</td>\n",
       "      <td>tigers wary of farrell  gamble  leicester say ...</td>\n",
       "    </tr>\n",
       "    <tr>\n",
       "      <th>3</th>\n",
       "      <td>sport</td>\n",
       "      <td>yeading face newcastle in fa cup premiership s...</td>\n",
       "    </tr>\n",
       "    <tr>\n",
       "      <th>4</th>\n",
       "      <td>entertainment</td>\n",
       "      <td>ocean s twelve raids box office ocean s twelve...</td>\n",
       "    </tr>\n",
       "  </tbody>\n",
       "</table>\n",
       "</div>"
      ],
      "text/plain": [
       "        category                                               text\n",
       "0           tech  tv future in the hands of viewers with home th...\n",
       "1       business  worldcom boss  left books alone  former worldc...\n",
       "2          sport  tigers wary of farrell  gamble  leicester say ...\n",
       "3          sport  yeading face newcastle in fa cup premiership s...\n",
       "4  entertainment  ocean s twelve raids box office ocean s twelve..."
      ]
     },
     "execution_count": 3,
     "metadata": {},
     "output_type": "execute_result"
    }
   ],
   "source": [
    "df.head()"
   ]
  },
  {
   "cell_type": "code",
   "execution_count": 4,
   "metadata": {},
   "outputs": [
    {
     "data": {
      "text/plain": [
       "sport            511\n",
       "business         510\n",
       "politics         417\n",
       "tech             401\n",
       "entertainment    386\n",
       "Name: category, dtype: int64"
      ]
     },
     "execution_count": 4,
     "metadata": {},
     "output_type": "execute_result"
    }
   ],
   "source": [
    "df.category.value_counts()"
   ]
  },
  {
   "cell_type": "markdown",
   "metadata": {},
   "source": [
    "# Preprocess"
   ]
  },
  {
   "cell_type": "code",
   "execution_count": 5,
   "metadata": {},
   "outputs": [
    {
     "name": "stderr",
     "output_type": "stream",
     "text": [
      "[nltk_data] Downloading package punkt to /root/nltk_data...\n",
      "[nltk_data]   Package punkt is already up-to-date!\n",
      "[nltk_data] Downloading package wordnet to /root/nltk_data...\n",
      "[nltk_data]   Package wordnet is already up-to-date!\n",
      "[nltk_data] Downloading package averaged_perceptron_tagger to\n",
      "[nltk_data]     /root/nltk_data...\n",
      "[nltk_data]   Package averaged_perceptron_tagger is already up-to-\n",
      "[nltk_data]       date!\n"
     ]
    }
   ],
   "source": [
    "from nautilus_nlp.preprocessing.tokenizer import tokenize\n",
    "from nautilus_nlp.preprocessing.lemmatization import lemmatize_english_tokens"
   ]
  },
  {
   "cell_type": "code",
   "execution_count": 6,
   "metadata": {},
   "outputs": [
    {
     "name": "stdout",
     "output_type": "stream",
     "text": [
      "CPU times: user 2min 47s, sys: 1.15 s, total: 2min 48s\n",
      "Wall time: 2min 48s\n"
     ]
    }
   ],
   "source": [
    "%%time\n",
    "df['tokens'] = df.text.apply(lambda row: tokenize(row))\n",
    "df['tokens'] = df.tokens.apply(lambda row: lemmatize_english_tokens(row))\n",
    "df['tokens'] = df.tokens.apply(lambda row: ' '.join(row))"
   ]
  },
  {
   "cell_type": "markdown",
   "metadata": {},
   "source": [
    "# Split dataframe"
   ]
  },
  {
   "cell_type": "code",
   "execution_count": 7,
   "metadata": {},
   "outputs": [],
   "source": [
    "from sklearn.model_selection import train_test_split"
   ]
  },
  {
   "cell_type": "code",
   "execution_count": 8,
   "metadata": {},
   "outputs": [],
   "source": [
    "train, test = train_test_split(df, test_size=0.2)"
   ]
  },
  {
   "cell_type": "markdown",
   "metadata": {},
   "source": [
    "# Compute TF-IDF"
   ]
  },
  {
   "cell_type": "code",
   "execution_count": 9,
   "metadata": {},
   "outputs": [
    {
     "name": "stderr",
     "output_type": "stream",
     "text": [
      "paramiko missing, opening SSH/SCP/SFTP paths will be disabled.  `pip install paramiko` to suppress\n"
     ]
    }
   ],
   "source": [
    "from nautilus_nlp.preprocessing.text_vectorizers import TfidfTextVectorizer"
   ]
  },
  {
   "cell_type": "code",
   "execution_count": 15,
   "metadata": {},
   "outputs": [],
   "source": [
    "tfidf = TfidfTextVectorizer(max_df=0.95, #ignore terms that have a document frequency strictly higher \n",
    "              min_df=0.01,\n",
    "              max_features=10000,\n",
    "              encoding='utf-8',\n",
    "              #stop_words=SW,\n",
    "              norm=None,\n",
    "              #ngram_range=(1, 2))\n",
    "              )"
   ]
  },
  {
   "cell_type": "code",
   "execution_count": 16,
   "metadata": {},
   "outputs": [
    {
     "data": {
      "text/plain": [
       "TfidfVectorizer(analyzer='word', binary=False, decode_error='strict',\n",
       "        dtype=<class 'numpy.float64'>, encoding='utf-8', input='content',\n",
       "        lowercase=True, max_df=0.95, max_features=10000, min_df=0.01,\n",
       "        ngram_range=(1, 1), norm=None, preprocessor=None, smooth_idf=True,\n",
       "        stop_words=None, strip_accents=None, sublinear_tf=False,\n",
       "        token_pattern='(?u)\\\\b\\\\w\\\\w+\\\\b', tokenizer=None, use_idf=True,\n",
       "        vocabulary=None)"
      ]
     },
     "execution_count": 16,
     "metadata": {},
     "output_type": "execute_result"
    }
   ],
   "source": [
    "# uses Sci-kit learn TfidfVectorizer()\n",
    "# You can pass all the arguments supported by sci-kit \n",
    "# Doc : https://scikit-learn.org/stable/modules/generated/sklearn.feature_extraction.text.TfidfVectorizer.html\n",
    "tfidf.tfidf_vectorizer"
   ]
  },
  {
   "cell_type": "code",
   "execution_count": 17,
   "metadata": {},
   "outputs": [],
   "source": [
    "list_of_docs = list(train.tokens)"
   ]
  },
  {
   "cell_type": "code",
   "execution_count": 18,
   "metadata": {
    "scrolled": true
   },
   "outputs": [
    {
     "data": {
      "text/plain": [
       "['bid to cut court witness stress new target to reduce the stress to victim and witness give evidence in court in england and wale have be announce by the lord chancellor .    lord falconer want all crown court and 90 % of magistrate    court to have facility to keep witness separate from defendant within four year . more video link will also be make available so that witness do not have to enter courtroom . -PRON- be part of a five - year plan to help build confidence in the justice system .    minister say the strategy be aim at re - balance the court system towards victim    and increase the number of offender bring to justice . launch the department for constitutional affair    plan    lord falconer say :    one of the top priority will be a well deal for victim .    the need and safety of victim will be at the heart of the way trial be manage .     court    judge    magistrate    prosecutor    police and victim support - all work together to ensure the right of victim be put first    without compromise the right of the defendant .    -PRON- go on :    give evidence be a nerve - wracking experience    especially when -PRON- re a victim .    yet with a will and with support -PRON- can be do .    lord falconer tell bbc radio 4 s today programme -PRON- be impossible for some elderly people to go to court to give evidence . other witness could be intimidate by sit alongside defendant outside court .    -PRON- be never go to get rid of some element of the trauma of give evidence     -PRON- say .    but -PRON- can make people believe that the court understand the problem    -PRON- s not some kind of alien place where -PRON- go where -PRON- be not think about -PRON- .     the plan come as the lord chancellor also consider allow camera into court for the first time since 1925    as long as -PRON- be use for case that do not involve witness . another feature of the strategy be constitutional reform    with a government bill to set up a supreme court and a judicial appointment commission return to the house of lord on tuesday . minister have propose get rid of the title of lord chancellor    but the lord have over - rule this . lord falconer say -PRON- be right for the high court to be completely distinct from parliament . the person in charge of the court system should not also be speaker of the house of lord    -PRON- say    and should be the good person choose from either house of parliament . what -PRON- do    not what -PRON- be call    be the critical issue    -PRON- add .',\n",
       " 'market unfaze by aurora setback as the aurora limp back to -PRON- dock on 20 january    a blizzard of photo and interview seem to add up to an unambiguous tale of woe .    the ship have another slice of bad luck to add to -PRON- history of health scare and technical trouble . and -PRON- owner    p&o cruise - now part of the huge -PRON- carnival corporation - be look at a significant slice chop off this year s profit and a potential pr fiasco . no - one    however    seem to have tell the stock market . the warning of a five - cent hit to 2005 earning come just 24 hour after one of the world s big investment bank have up -PRON- target for carnival s share price    from £ 35 to £ 36.20 . other investor barely blink    and by 1300 gmt carnival s share in london be down a single penny    or 0.03 %    at £ 32.26 .    why the mismatch between the public perception and the market s response     the aurora issue have be an ongoing one for some time     say deutsche bank s simon champion .    -PRON- be clearly a source of uncertainty for the company - -PRON- be a long cruise    after all . but the stock market be very good at treat these issue as one - off event .     despite -PRON- string of bad luck    -PRON- point out    aurora be just one vessel in a large carnival fleet    the uk s p&o princess group have be merge into the much large -PRON- firm in 2003 . and generally speak    carnival have a reputation for keep -PRON- ship pretty much on schedule .    carnival have an incredibly strong track record     mr champion .    similarly    analyst expect the impact on the rest of the cruise business to be limit . the hundred of disappointed passenger who have now have to give up the opportunity to spend the next three month on the aurora have get both a refund and a credit for another cruise . that should mitigate some of the pr risk    both for carnival and -PRON- main competitor    royal caribbean .    while not common    cancellation for technical reason be not entirely unusual in the industry     write analyst from citigroup smith barney in a note to client on friday .    moreover    such event typically have a limited impact on booking and pricing for future cruise .    after all    the aurora incident may be big news in the uk - but for carnival customer elsewhere -PRON- s unlikely to make too much of a splash .    assume that citigroup be right    and demand stay solid    the structure of the industry also work in carnival s favour . in the wake of p&o princess s takeover by carnival    the business be now to a great extent a duopoly . give the expense of build    outfitting and run a cruise ship     slow supply growth    be a certainty    say david ander at merrill lynch on thursday . in other word    if -PRON- do want a cruise    -PRON- option be limited . and with carnival remain the market leader    -PRON- look set to keep sell the ticket - no matter what happen to the ill - fat aurora in the future .']"
      ]
     },
     "execution_count": 18,
     "metadata": {},
     "output_type": "execute_result"
    }
   ],
   "source": [
    "list_of_docs[:2]"
   ]
  },
  {
   "cell_type": "code",
   "execution_count": 19,
   "metadata": {},
   "outputs": [
    {
     "data": {
      "text/plain": [
       "<1780x2638 sparse matrix of type '<class 'numpy.float64'>'\n",
       "\twith 251758 stored elements in Compressed Sparse Row format>"
      ]
     },
     "execution_count": 19,
     "metadata": {},
     "output_type": "execute_result"
    }
   ],
   "source": [
    "# Compute the word count vector matrix.\n",
    "# will apply \n",
    "tfidf.compute_tfidf(list_of_docs)"
   ]
  },
  {
   "cell_type": "code",
   "execution_count": 20,
   "metadata": {
    "scrolled": true
   },
   "outputs": [
    {
     "data": {
      "text/plain": [
       "{'song': 328.383,\n",
       " 'wage': 314.316,\n",
       " 'roddick': 293.646,\n",
       " 'minimum': 260.403,\n",
       " 'music': 75.21,\n",
       " 'robbie': 157.772,\n",
       " 'terrorist': 153.899,\n",
       " 'good': 151.491,\n",
       " 'game': 73.159,\n",
       " 'increase': 129.725,\n",
       " 'hunt': 93.316,\n",
       " 'party': 126.188,\n",
       " '25': 125.075,\n",
       " 'pay': 121.356,\n",
       " 'muslim': 114.249,\n",
       " 'gadget': 113.934,\n",
       " 'student': 108.451,\n",
       " 'threat': 104.522,\n",
       " 'black': 103.206,\n",
       " 'liverpool': 101.794,\n",
       " 'airline': 99.171,\n",
       " 'stone': 96.591,\n",
       " 'mini': 90.917,\n",
       " 'mobile': 89.006,\n",
       " 'play': 92.565,\n",
       " 'cell': 92.487,\n",
       " 'virus': 87.661,\n",
       " 'jamie': 92.1,\n",
       " 'spam': 91.696,\n",
       " 'film': 82.501,\n",
       " 'hour': 91.616,\n",
       " 'camera': 91.062,\n",
       " 'edward': 88.856,\n",
       " 'search': 71.07,\n",
       " 'passenger': 88.648,\n",
       " 'lord': 87.43,\n",
       " 'rugby': 86.836,\n",
       " 'china': 86.425,\n",
       " 'yuko': 75.514,\n",
       " 'government': 86.077,\n",
       " 'machine': 84.396,\n",
       " 'ibm': 82.338,\n",
       " 'online': 80.27,\n",
       " 'asylum': 80.242,\n",
       " 'musician': 79.603,\n",
       " 'fraud': 79.531,\n",
       " 'pension': 79.157,\n",
       " 'that': 78.174,\n",
       " 'gaming': 78.083,\n",
       " 'bt': 77.836,\n",
       " 'cash': 77.796,\n",
       " 'argentina': 77.567,\n",
       " 'site': 77.486,\n",
       " 'lee': 77.291,\n",
       " 'actress': 77.044,\n",
       " 'hip': 76.849,\n",
       " 'attack': 75.856,\n",
       " 'broadband': 75.512,\n",
       " 'actor': 74.891,\n",
       " 'award': 74.741,\n",
       " 'bank': 74.26,\n",
       " 'document': 74.157,\n",
       " 'mail': 73.852,\n",
       " 'business': 73.69,\n",
       " 'not': 73.596,\n",
       " 'japan': 72.974,\n",
       " 'chart': 72.764,\n",
       " 'what': 72.65,\n",
       " 'deutsche': 72.138,\n",
       " 'police': 72.137,\n",
       " 'soul': 72.026,\n",
       " 'point': 71.795,\n",
       " 'vote': 71.593,\n",
       " 'card': 71.142,\n",
       " 'file': 70.759,\n",
       " 'dvd': 70.511,\n",
       " 'poster': 70.121,\n",
       " 'murder': 70.121}"
      ]
     },
     "execution_count": 20,
     "metadata": {},
     "output_type": "execute_result"
    }
   ],
   "source": [
    "# Get highest-weighted words\n",
    "tfidf.get_top_tfidf(n=100)"
   ]
  },
  {
   "cell_type": "code",
   "execution_count": 21,
   "metadata": {
    "scrolled": false
   },
   "outputs": [
    {
     "name": "stdout",
     "output_type": "stream",
     "text": [
      "['court', 'lord', 'witness', 'victim', 'evidence', 'chancellor', 'rid', 'constitutional', 'house', 'justice']\n",
      "['ship', 'market', 'limited', 'for', 'technical', 'one', 'stock', 'impact', 'much', 'on']\n",
      "['trust', 'politician', 'voter', 'election', 'poll', 'public', 'issue', 'lib', 'dem', 'lack']\n",
      "['member', 'share', 'qualify', 'profit', '42', 'payment', 'society', 'than', 'building', 'worth']\n",
      "['ireland', 'cardiff', 'slam', 'england', 'grand', 'year', 'wale', 'last', 'team', 'tournament']\n",
      "['good', 'theatre', 'musical', 'mary', 'royal', 'producer', 'at', 'design', 'outstanding', 'award']\n",
      "['virus', 'writer', 'phone', '2004', 'that', 'attack', 'number', 'spam', 'use', 'message']\n",
      "['academy', 'award', 'oscar', 'war', 'ceremony', 'frank', 'winner', 'film', 'first', 'as']\n",
      "['broadcaster', 'debate', 'lord', 'prime', 'campaign', 'election', 'say', 'minister', 'blair', 'ahead']\n",
      "['parliament', 'record', 'prior', 'document', 'blow', 'page', 'act', 'room', 'by', 'history']\n"
     ]
    }
   ],
   "source": [
    "# Get highest-weighted words per document\n",
    "for doc in list_of_docs[:10]:\n",
    "    print(tfidf.get_top_tfidf_per_doc(doc,n=10))"
   ]
  },
  {
   "cell_type": "markdown",
   "metadata": {},
   "source": [
    "# Apply Tf-idf to new documents"
   ]
  },
  {
   "cell_type": "code",
   "execution_count": 22,
   "metadata": {},
   "outputs": [
    {
     "data": {
      "text/html": [
       "<div>\n",
       "<style scoped>\n",
       "    .dataframe tbody tr th:only-of-type {\n",
       "        vertical-align: middle;\n",
       "    }\n",
       "\n",
       "    .dataframe tbody tr th {\n",
       "        vertical-align: top;\n",
       "    }\n",
       "\n",
       "    .dataframe thead th {\n",
       "        text-align: right;\n",
       "    }\n",
       "</style>\n",
       "<table border=\"1\" class=\"dataframe\">\n",
       "  <thead>\n",
       "    <tr style=\"text-align: right;\">\n",
       "      <th></th>\n",
       "      <th>category</th>\n",
       "      <th>text</th>\n",
       "      <th>tokens</th>\n",
       "    </tr>\n",
       "  </thead>\n",
       "  <tbody>\n",
       "    <tr>\n",
       "      <th>1515</th>\n",
       "      <td>business</td>\n",
       "      <td>booming markets shed few tears the market  for...</td>\n",
       "      <td>boom market shed few tear the market    former...</td>\n",
       "    </tr>\n",
       "    <tr>\n",
       "      <th>980</th>\n",
       "      <td>sport</td>\n",
       "      <td>claxton hunting first major medal british hurd...</td>\n",
       "      <td>claxton hunt first major medal british hurdler...</td>\n",
       "    </tr>\n",
       "    <tr>\n",
       "      <th>1634</th>\n",
       "      <td>tech</td>\n",
       "      <td>sony psp handheld console hits us the latest h...</td>\n",
       "      <td>sony psp handheld console hit -PRON- the late ...</td>\n",
       "    </tr>\n",
       "    <tr>\n",
       "      <th>1053</th>\n",
       "      <td>entertainment</td>\n",
       "      <td>black sabbath top rock album poll black sabbat...</td>\n",
       "      <td>black sabbath top rock album poll black sabbat...</td>\n",
       "    </tr>\n",
       "    <tr>\n",
       "      <th>1870</th>\n",
       "      <td>sport</td>\n",
       "      <td>jones doping probe begins an investigation int...</td>\n",
       "      <td>jone dope probe begin an investigation into do...</td>\n",
       "    </tr>\n",
       "  </tbody>\n",
       "</table>\n",
       "</div>"
      ],
      "text/plain": [
       "           category                                               text  \\\n",
       "1515       business  booming markets shed few tears the market  for...   \n",
       "980           sport  claxton hunting first major medal british hurd...   \n",
       "1634           tech  sony psp handheld console hits us the latest h...   \n",
       "1053  entertainment  black sabbath top rock album poll black sabbat...   \n",
       "1870          sport  jones doping probe begins an investigation int...   \n",
       "\n",
       "                                                 tokens  \n",
       "1515  boom market shed few tear the market    former...  \n",
       "980   claxton hunt first major medal british hurdler...  \n",
       "1634  sony psp handheld console hit -PRON- the late ...  \n",
       "1053  black sabbath top rock album poll black sabbat...  \n",
       "1870  jone dope probe begin an investigation into do...  "
      ]
     },
     "execution_count": 22,
     "metadata": {},
     "output_type": "execute_result"
    }
   ],
   "source": [
    "test.head()"
   ]
  },
  {
   "cell_type": "code",
   "execution_count": 23,
   "metadata": {
    "scrolled": true
   },
   "outputs": [
    {
     "data": {
      "text/plain": [
       "1515    [disaster, market, stock, insurance, global, b...\n",
       "980     [medal, hurdle, indoor, european, training, co...\n",
       "1634    [sony, device, gaming, handheld, gadget, ninte...\n",
       "1053    [band, rock, black, album, list, top, live, po...\n",
       "1870    [olympic, jone, truth, medal, sydney, pound, a...\n",
       "1135    [store, sale, retailer, december, same, rise, ...\n",
       "1034    [jackson, ms, boy, prosecution, court, film, d...\n",
       "1061    [festival, sell, event, day, organiser, act, j...\n",
       "205     [engine, union, buy, six, motor, plant, italia...\n",
       "1500    [program, phone, malicious, file, instal, work...\n",
       "2100    [uk, trick, ban, will, super, industry, respon...\n",
       "1046    [round, victory, title, really, first, capture...\n",
       "1728    [cardiff, thomas, jone, morgan, france, italy,...\n",
       "575     [file, server, operator, peer, network, site, ...\n",
       "24      [sound, audio, mobile, technology, phone, hand...\n",
       "1556    [eu, law, draft, computer, software, legal, im...\n",
       "2058    [interactive, award, nomination, category, tv,...\n",
       "750     [card, bank, economy, central, debt, consumer,...\n",
       "876     [bill, committee, welfare, draft, government, ...\n",
       "2149    [project, information, computer, community, lo...\n",
       "1056    [ferguson, arsenal, game, football, saturday, ...\n",
       "227     [zealand, wale, black, new, cardiff, game, rug...\n",
       "1353    [bill, limit, small, government, culture, brit...\n",
       "1397    [pension, election, age, vote, party, basic, o...\n",
       "2028    [host, american, television, suffer, award, gl...\n",
       "1181    [ipod, apple, job, computer, mini, new, mass, ...\n",
       "2123    [ticket, green, band, fan, dublin, concert, se...\n",
       "77      [break, hodgson, winter, league, premiership, ...\n",
       "1075    [game, video, company, news, tag, as, art, eye...\n",
       "1201    [bank, italian, institution, sue, company, fin...\n",
       "                              ...                        \n",
       "1301    [un, short, ms, authority, tsunami, only, indi...\n",
       "2150    [spain, federation, player, henry, comment, in...\n",
       "562     [video, offer, demand, sky, cable, tv, program...\n",
       "1268    [shoot, texas, control, hunt, let, session, wi...\n",
       "364     [festival, disaster, film, ticket, continue, e...\n",
       "467     [million, show, audience, figure, 14, episode,...\n",
       "2086    [sun, russian, voting, employ, buy, stake, aug...\n",
       "235     [growth, rate, consumer, quarter, spending, bu...\n",
       "1755    [offer, fresh, as, game, tough, title, level, ...\n",
       "672     [microsoft, window, user, system, online, inte...\n",
       "732     [jone, gb, championship, indoor, green, olympi...\n",
       "455     [download, programme, episode, tv, net, uk, pe...\n",
       "635     [digital, design, technology, people, ms, came...\n",
       "795     [chelsea, 2000, play, milan, barcelona, leg, b...\n",
       "535     [pc, 2010, pcs, china, million, market, local,...\n",
       "1199    [film, india, hurt, community, refuse, anger, ...\n",
       "264     [consumer, rule, mobile, firm, service, phone,...\n",
       "701     [network, file, content, download, music, tech...\n",
       "59      [drug, heart, risk, regulator, that, on, disea...\n",
       "456     [lord, reform, chancellor, manifesto, house, c...\n",
       "2091    [collin, athletic, sport, olympic, competitor,...\n",
       "667     [dvd, copy, pirate, piracy, technology, progra...\n",
       "164     [suspend, candidate, mr, view, say, party, new...\n",
       "393     [policy, economic, inflation, rise, market, re...\n",
       "117     [labour, chancellor, cut, conservative, party,...\n",
       "207     [blair, question, answer, trust, thing, say, p...\n",
       "343     [blair, peace, mr, conference, leader, iraq, v...\n",
       "675     [party, election, mr, leadership, assembly, ro...\n",
       "2141    [medium, traditional, information, web, mainst...\n",
       "132     [wale, william, flanker, cardiff, fit, injury,...\n",
       "Name: tokens, Length: 445, dtype: object"
      ]
     },
     "execution_count": 23,
     "metadata": {},
     "output_type": "execute_result"
    }
   ],
   "source": [
    "test.tokens.apply(lambda row: tfidf.get_top_tfidf_per_doc(row))"
   ]
  },
  {
   "cell_type": "code",
   "execution_count": 24,
   "metadata": {},
   "outputs": [],
   "source": [
    "test_tfidf_matrix = tfidf.apply_tfidf_to_documents(list(test.tokens))"
   ]
  },
  {
   "cell_type": "code",
   "execution_count": 25,
   "metadata": {},
   "outputs": [
    {
     "data": {
      "text/plain": [
       "{'zealand': 157.747,\n",
       " 'gadget': 137.671,\n",
       " 'child': 100.98,\n",
       " 'camera': 91.062,\n",
       " 'wale': 86.221,\n",
       " 'mini': 85.866,\n",
       " 'bt': 77.836,\n",
       " 'soul': 77.567,\n",
       " 'council': 76.619,\n",
       " 'jackson': 74.892}"
      ]
     },
     "execution_count": 25,
     "metadata": {},
     "output_type": "execute_result"
    }
   ],
   "source": [
    "tfidf.get_top_tfidf(test_tfidf_matrix)"
   ]
  }
 ],
 "metadata": {
  "kernelspec": {
   "display_name": "Python 3",
   "language": "python",
   "name": "python3"
  },
  "language_info": {
   "codemirror_mode": {
    "name": "ipython",
    "version": 3
   },
   "file_extension": ".py",
   "mimetype": "text/x-python",
   "name": "python",
   "nbconvert_exporter": "python",
   "pygments_lexer": "ipython3",
   "version": "3.7.3"
  }
 },
 "nbformat": 4,
 "nbformat_minor": 2
}
