{
 "cells": [
  {
   "cell_type": "code",
   "execution_count": 3,
   "metadata": {},
   "outputs": [
    {
     "ename": "ModuleNotFoundError",
     "evalue": "No module named 'nautilus_nlp.visualization'",
     "output_type": "error",
     "traceback": [
      "\u001b[0;31m---------------------------------------------------------------------------\u001b[0m",
      "\u001b[0;31mModuleNotFoundError\u001b[0m                       Traceback (most recent call last)",
      "\u001b[0;32m<ipython-input-3-6aa84683348e>\u001b[0m in \u001b[0;36m<module>\u001b[0;34m\u001b[0m\n\u001b[0;32m----> 1\u001b[0;31m \u001b[0;32mfrom\u001b[0m \u001b[0mnautilus_nlp\u001b[0m\u001b[0;34m.\u001b[0m\u001b[0mvisualization\u001b[0m\u001b[0;34m.\u001b[0m\u001b[0mvisualize\u001b[0m \u001b[0;32mimport\u001b[0m \u001b[0mprint_concordance\u001b[0m\u001b[0;34m\u001b[0m\u001b[0;34m\u001b[0m\u001b[0m\n\u001b[0m\u001b[1;32m      2\u001b[0m \u001b[0;32mfrom\u001b[0m \u001b[0mnautilus_nlp\u001b[0m\u001b[0;34m.\u001b[0m\u001b[0mvisualization\u001b[0m\u001b[0;34m.\u001b[0m\u001b[0mvisualize\u001b[0m \u001b[0;32mimport\u001b[0m \u001b[0mmake_word_cloud\u001b[0m\u001b[0;34m\u001b[0m\u001b[0;34m\u001b[0m\u001b[0m\n\u001b[1;32m      3\u001b[0m \u001b[0;32mfrom\u001b[0m \u001b[0mcollections\u001b[0m \u001b[0;32mimport\u001b[0m \u001b[0mCounter\u001b[0m\u001b[0;34m\u001b[0m\u001b[0;34m\u001b[0m\u001b[0m\n",
      "\u001b[0;31mModuleNotFoundError\u001b[0m: No module named 'nautilus_nlp.visualization'"
     ]
    }
   ],
   "source": [
    "from nautilus_nlp.visualization.visualize import print_concordance\n",
    "from nautilus_nlp.visualization.visualize import make_word_cloud\n",
    "from collections import Counter"
   ]
  },
  {
   "cell_type": "code",
   "execution_count": null,
   "metadata": {},
   "outputs": [],
   "source": [
    "import sys"
   ]
  },
  {
   "cell_type": "code",
   "execution_count": null,
   "metadata": {},
   "outputs": [],
   "source": [
    "some_tokenized_texts = ['mise','au','contentieux','chez','XXX','le','client','est','en','relation','avec','un','prestataire','de','recouvrement','il','demande','les','coordonnées','téléphoniques','du','prestataire','de','recouvrement','souhaite','des','renseignements','sur','son','plan','d','apurement','mise','au','contentieux','chez','XXX','le','client','est','en','relation','avec','un','prestataire','de','recouvrement','ok','maj','ok','fel','kole','bp','appel','popur','régler','sa','facture','de','euros','n','facture','régler','car','il','avait','un','report','de','sol','desur','cette','facture','de','euros','somme','payé','au','recouvrement','solde','a','se','jour','a','zéro','appel','d','un','tiers','oui','nom','prénom','mme','dor','au','titre','de','epouse','signale','qu','elle','n','arrive','pas','a','joindre','le','recouvrement','pour','leurs','signaléun','paiement','qu','elle','a','faite','ce','matin','informe','que','coupure','prévue','pour','le','et','invite','retenté','de','joindre','lerec','ouvrement','assistance','sociale','madame','rodrigez','est','avec','la','cliente','et','se','renseigne','sur','les','sommes','dues','au','recouvrement','ainsi','que','les','prelevement','s','avenirs','conversation','coupée','le','client','a','raccroché','pendant','que','je','me','renseignaissur','la','démarche','a','tenir','pour','son','rétablissement','savoir','siil','avait','réglé','au','recouvrement','cliente','appel','pour','nous','dire','que','elle','payera','sa','facture','de','le','octobre','la','recouvrement','n','arrete','pas','de','l','appeler','facture','en','recouvrement','donné','n','retrouve','pour','délai','de','paiement','en','juillet','lieu','de','traitement','acticall','casa','demande','du','client','plan','dapurement','analyse','du','dossier','créance','transféré','actions','réalisées','numéros','du','service','de','recouvrement','réponse','apportée','ras','miseau','contentieux','chez','XXX','le','client','est','en','relation','avec','unpre','stataire','de','recouvrement','il','demande','les','coordonnées','téléphoniques','du','prestataire','de','recouvrement','souhaite','des','ren','mise','au','contentieux','chez','XXX','le','client','est','en','relation','avec','un','prestataire','de','recouvrement','il','demande','les','coordonnées','téléphoniqu','esdu','prestataire','de','recouvrement','num','contentia','donner']"
   ]
  },
  {
   "cell_type": "code",
   "execution_count": null,
   "metadata": {},
   "outputs": [],
   "source": [
    "print_concordance(some_tokenized_texts, query_word='recouvrement')"
   ]
  },
  {
   "cell_type": "code",
   "execution_count": null,
   "metadata": {},
   "outputs": [],
   "source": [
    "c = Counter(some_tokenized_texts)"
   ]
  },
  {
   "cell_type": "code",
   "execution_count": null,
   "metadata": {},
   "outputs": [],
   "source": [
    "make_word_cloud(c)"
   ]
  },
  {
   "cell_type": "code",
   "execution_count": null,
   "metadata": {},
   "outputs": [],
   "source": []
  }
 ],
 "metadata": {
  "kernelspec": {
   "display_name": "Python 3",
   "language": "python",
   "name": "python3"
  },
  "language_info": {
   "codemirror_mode": {
    "name": "ipython",
    "version": 3
   },
   "file_extension": ".py",
   "mimetype": "text/x-python",
   "name": "python",
   "nbconvert_exporter": "python",
   "pygments_lexer": "ipython3",
   "version": "3.7.3"
  }
 },
 "nbformat": 4,
 "nbformat_minor": 2
}
