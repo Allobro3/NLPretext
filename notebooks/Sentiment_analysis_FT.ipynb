{
 "cells": [
  {
   "cell_type": "code",
   "execution_count": null,
   "metadata": {},
   "outputs": [],
   "source": [
    "import csv  \n",
    "import re\n"
   ]
  },
  {
   "cell_type": "markdown",
   "metadata": {},
   "source": [
    "# Data Cleaning:\n",
    "Pour télécharger les datas pour ce notebook, vous pouvez utilisez le [script associé](/nautilus_nlp/data/external/get_stanfordtweets.sh)"
   ]
  },
  {
   "cell_type": "code",
   "execution_count": 3,
   "metadata": {},
   "outputs": [],
   "source": [
    "\n",
    "train = open('../data/processed/tweets.train','w',encoding='utf-8')  \n",
    "test = open('../data/processed/tweets.valid','w',encoding='utf-8')  \n",
    "with open('../data/external/tweets_sentiment/training.1600000.processed.noemoticon.csv', mode='r', encoding = \"ISO-8859-1\") as csv_file:  \n",
    "    csv_reader = csv.DictReader(csv_file, fieldnames=['target', 'id', 'date', 'flag', 'user', 'text'])\n",
    "    line = 0\n",
    "    for row in csv_reader:\n",
    "        # Clean the training data\n",
    "        # First we lower case the text\n",
    "        text = row[\"text\"].lower()\n",
    "        # remove links\n",
    "        text = re.sub('((www\\.[^\\s]+)|(https?://[^\\s]+))','',text)\n",
    "        #Remove usernames\n",
    "        text = re.sub('@[^\\s]+','', text)\n",
    "        # replace hashtags by just words\n",
    "        text = re.sub(r'#([^\\s]+)', r'\\1', text)\n",
    "        #correct all multiple white spaces to a single white space\n",
    "        text = re.sub('[\\s]+', ' ', text)\n",
    "        # Additional clean up : removing words less than 3 chars, and remove space at the beginning and teh end\n",
    "        text = re.sub(r'\\W*\\b\\w{1,3}\\b', '', text)\n",
    "        text = text.strip()\n",
    "        line = line + 1\n",
    "        # Split data into train and validation\n",
    "        if line%16 == 0:\n",
    "            print(f'__label__{row[\"target\"]} {text}', file=test)\n",
    "        else:\n",
    "            print(f'__label__{row[\"target\"]} {text}', file=train)"
   ]
  },
  {
   "cell_type": "markdown",
   "metadata": {},
   "source": [
    "# Model Training"
   ]
  },
  {
   "cell_type": "code",
   "execution_count": 2,
   "metadata": {},
   "outputs": [],
   "source": [
    "from nautilus_nlp.models import Fasttext_classifier "
   ]
  },
  {
   "cell_type": "code",
   "execution_count": 3,
   "metadata": {},
   "outputs": [],
   "source": [
    "def print_results(N, p, r):\n",
    "    print(\"N\\t\" + str(N))\n",
    "    print(\"P@{}\\t{:.3f}\".format(1, p))\n",
    "    print(\"R@{}\\t{:.3f}\".format(1, r))\n",
    "    \n",
    "train_data = '../data/processed/tweets.train'\n",
    "valid_data = '../data/processed/tweets.valid'\n",
    "\n",
    "model = Fasttext_classifier.Fasttext_clf()\n"
   ]
  },
  {
   "cell_type": "code",
   "execution_count": 8,
   "metadata": {},
   "outputs": [
    {
     "name": "stdout",
     "output_type": "stream",
     "text": [
      "N\t100000\n",
      "P@1\t0.759\n",
      "R@1\t0.759\n"
     ]
    }
   ],
   "source": [
    "print_results(*model.test(valid_data))\n"
   ]
  },
  {
   "cell_type": "code",
   "execution_count": 6,
   "metadata": {},
   "outputs": [
    {
     "name": "stdout",
     "output_type": "stream",
     "text": [
      "12.9 s ± 1.26 s per loop (mean ± std. dev. of 7 runs, 1 loop each)\n"
     ]
    }
   ],
   "source": [
    "%%timeit\n",
    "model.train(train_data)\n"
   ]
  },
  {
   "cell_type": "markdown",
   "metadata": {},
   "source": [
    "Il faut donc 13 secondes pour entrainer un modèle sur 1.5 Millions de tweets, avec une précision de 0.759. Not bad"
   ]
  },
  {
   "cell_type": "code",
   "execution_count": 9,
   "metadata": {},
   "outputs": [],
   "source": [
    "model.save_model('/home/nautilus_nlp/models/sentiments.bin')"
   ]
  },
  {
   "cell_type": "code",
   "execution_count": 11,
   "metadata": {},
   "outputs": [
    {
     "name": "stdout",
     "output_type": "stream",
     "text": [
      "-rw-r--r-- 1 root root 232M Mar 14 12:51 /home/nautilus_nlp/models/sentiments.bin\n"
     ]
    }
   ],
   "source": [
    "!ls -lh '/home/nautilus_nlp/models/sentiments.bin'"
   ]
  },
  {
   "cell_type": "markdown",
   "metadata": {},
   "source": [
    "Ce modèle fait environ 230Mo"
   ]
  },
  {
   "cell_type": "markdown",
   "metadata": {},
   "source": [
    "Maintenant si on quantize ce modèle"
   ]
  },
  {
   "cell_type": "code",
   "execution_count": 12,
   "metadata": {},
   "outputs": [
    {
     "name": "stdout",
     "output_type": "stream",
     "text": [
      "N\t100000\n",
      "P@1\t0.759\n",
      "R@1\t0.759\n"
     ]
    }
   ],
   "source": [
    "model.quantize(input=train_data, qnorm=True, retrain=True, cutoff=100000)\n",
    "print_results(*model.test(valid_data))\n",
    "model.save_model('/home/nautilus_nlp/models/sentiments.ftz')"
   ]
  },
  {
   "cell_type": "code",
   "execution_count": 13,
   "metadata": {},
   "outputs": [
    {
     "name": "stdout",
     "output_type": "stream",
     "text": [
      "-rw-r--r-- 1 root root 6.8M Mar 14 12:53 /home/nautilus_nlp/models/sentiments.ftz\n"
     ]
    }
   ],
   "source": [
    "!ls -lh '/home/nautilus_nlp/models/sentiments.ftz'"
   ]
  },
  {
   "cell_type": "code",
   "execution_count": null,
   "metadata": {},
   "outputs": [],
   "source": []
  }
 ],
 "metadata": {
  "kernelspec": {
   "display_name": "Python 3",
   "language": "python",
   "name": "python3"
  },
  "language_info": {
   "codemirror_mode": {
    "name": "ipython",
    "version": 3
   },
   "file_extension": ".py",
   "mimetype": "text/x-python",
   "name": "python",
   "nbconvert_exporter": "python",
   "pygments_lexer": "ipython3",
   "version": "3.7.1"
  }
 },
 "nbformat": 4,
 "nbformat_minor": 2
}
